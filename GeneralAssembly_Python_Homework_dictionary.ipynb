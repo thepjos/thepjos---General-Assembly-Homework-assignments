{
  "nbformat": 4,
  "nbformat_minor": 0,
  "metadata": {
    "colab": {
      "name": "GeneralAssembly Python Homework-dictionary",
      "provenance": [],
      "collapsed_sections": [
        "_yv4DI9GSU01",
        "j2WZlr4aSN8T",
        "1Z5ZE-l3T-Zs",
        "OY4HIe9zSN8g"
      ],
      "include_colab_link": true
    },
    "kernelspec": {
      "name": "python3",
      "display_name": "Python 3"
    }
  },
  "cells": [
    {
      "cell_type": "markdown",
      "metadata": {
        "id": "view-in-github",
        "colab_type": "text"
      },
      "source": [
        "<a href=\"https://colab.research.google.com/github/thepjos/thepjos/blob/main/GeneralAssembly_Python_Homework_dictionary.ipynb\" target=\"_parent\"><img src=\"https://colab.research.google.com/assets/colab-badge.svg\" alt=\"Open In Colab\"/></a>"
      ]
    },
    {
      "cell_type": "markdown",
      "metadata": {
        "id": "hIHgBfgSSN8D"
      },
      "source": [
        "#  DICTS\n",
        "\n",
        "\n",
        "\n"
      ]
    },
    {
      "cell_type": "markdown",
      "metadata": {
        "id": "_yv4DI9GSU01"
      },
      "source": [
        "## BASICS\n"
      ]
    },
    {
      "cell_type": "markdown",
      "metadata": {
        "id": "YXndgQTcSWCF"
      },
      "source": [
        "### P1.PY"
      ]
    },
    {
      "cell_type": "code",
      "metadata": {
        "id": "sycqY3FhSN8E",
        "outputId": "29b5b392-68b4-4df6-8590-0e7915e28c88",
        "colab": {
          "base_uri": "https://localhost:8080/",
          "height": 136
        }
      },
      "source": [
        "\"\"\"\n",
        "Intro to Dict Concepts\n",
        "\"\"\"\n",
        "\n",
        "# A) Declare an empty dict as d1.\n",
        "\n",
        "d1 ={}\n",
        "\n",
        "# B) Create a dict called d2 containing the first and last names below:\n",
        "# Anthony Paollelo, Ping Qiao, Enrique Alvarez, Arjun Dhir \n",
        "\n",
        "d2 = {'Anthony': 'Paollelo', 'Ping' :'Qiao', 'Enrique' :'Alvarez', 'Arjun' :'Dhir'}\n",
        "\n",
        "\n",
        "# C) Add Allison Zhang person to d2.\n",
        "\n",
        "d2['Allison'] = 'Zhang'\n",
        "\n",
        "# D) How many people are now in d2? Print out all their *first* names in the vars below.\n",
        "\n",
        "### num_people = 4\n",
        "len(d2)\n",
        "### first_names = 'Anthony', 'Ping', 'Enrique', 'Arjun', 'Allison'\n",
        "d2.keys()\n",
        "\n",
        "# E) Delete a random person from d2 and print his/her name in the var below.\n",
        "\n",
        "d2.pop('Ping')\n",
        "### x = ping\n",
        "\n",
        "\n",
        "# F) Re-add the name you deleted to the end of d2.\n",
        "\n",
        "d2['Ping'] = 'Qiao'\n",
        "\n",
        "print(len(d2))\n",
        "print(d2.keys())\n",
        "d2\n",
        "\n"
      ],
      "execution_count": null,
      "outputs": [
        {
          "output_type": "stream",
          "text": [
            "5\n",
            "dict_keys(['Anthony', 'Enrique', 'Arjun', 'Allison', 'Ping'])\n"
          ],
          "name": "stdout"
        },
        {
          "output_type": "execute_result",
          "data": {
            "text/plain": [
              "{'Allison': 'Zhang',\n",
              " 'Anthony': 'Paollelo',\n",
              " 'Arjun': 'Dhir',\n",
              " 'Enrique': 'Alvarez',\n",
              " 'Ping': 'Qiao'}"
            ]
          },
          "metadata": {
            "tags": []
          },
          "execution_count": 16
        }
      ]
    },
    {
      "cell_type": "markdown",
      "metadata": {
        "id": "vGjiwyuNSN8H"
      },
      "source": [
        "\n",
        "\n",
        "### P2.PY\n",
        "\n",
        "\n"
      ]
    },
    {
      "cell_type": "code",
      "metadata": {
        "id": "0vq219wISN8J",
        "outputId": "43303711-f1fe-4c46-802e-02a8d8d49051",
        "colab": {
          "base_uri": "https://localhost:8080/",
          "height": 68
        }
      },
      "source": [
        "\"\"\"\n",
        "Predators & Prey\n",
        "\"\"\"\n",
        "\n",
        "# A) Create a dict called \"pred_prey\", containing:\n",
        "### 3 carnivorous marine animals\n",
        "### For each carnivore, 3 examples of its prey\n",
        "\n",
        "pred_prey = {'whale' : ['guppies','carp', 'bluegill'] , \n",
        "             'shark' : [ 'people', 'jellyfish', 'turtles'],\n",
        "             'seal' : ['salmon', 'penguins' , 'birds']\n",
        "             }\n",
        "\n",
        "print(pred_prey)\n",
        "\n",
        "# B) Print out the 2nd predator and its prey in this format:\n",
        "#### predator2: prey1, prey2, & prey3\n",
        "\n",
        "pred2 =pred_prey['shark']\n",
        "#print(pred_prey.get('shark'))\n",
        "print(f\" 'shark' : {pred2} \")   #couldnt figure out how to dump the brackets. maybe change to list ?\n",
        "\n",
        "# C) Print a unique collection of all the prey in a variable called \"prey\".\n",
        "\n",
        "prey = (pred_prey['whale'], pred_prey['shark'], pred_prey['seal'])\n",
        "print(prey)"
      ],
      "execution_count": null,
      "outputs": [
        {
          "output_type": "stream",
          "text": [
            "{'whale': ['guppies', 'carp', 'bluegill'], 'shark': ['people', 'jellyfish', 'turtles'], 'seal': ['salmon', 'penguins', 'birds']}\n",
            " 'shark' : ['people', 'jellyfish', 'turtles'] \n",
            "(['guppies', 'carp', 'bluegill'], ['people', 'jellyfish', 'turtles'], ['salmon', 'penguins', 'birds'])\n"
          ],
          "name": "stdout"
        }
      ]
    },
    {
      "cell_type": "markdown",
      "metadata": {
        "id": "2n4lE5O2SN8N"
      },
      "source": [
        "\n",
        "\n",
        "### P3.PY\n",
        "\n",
        "\n"
      ]
    },
    {
      "cell_type": "code",
      "metadata": {
        "id": "7mg1LKIdSN8O",
        "outputId": "0860d925-fade-4edb-ac32-cdbbb107a7ee",
        "colab": {
          "base_uri": "https://localhost:8080/",
          "height": 34
        }
      },
      "source": [
        "\"\"\"\n",
        "Merging Dicts\n",
        "\"\"\"\n",
        "\n",
        "# Merge these two dicts without creating a new one.\n",
        "\n",
        "d1 = {'a': 100, 'b': 200}\n",
        "d2 = {'c': 300, 'd': 400, 'e': 500}\n",
        "\n",
        "d1.update(d2)         # found this on google\n",
        "print(d1)\n",
        "\n",
        "\n",
        "#d1['c'] = 300        # or can do like this manually adding them one by one\n",
        "#d1['d'] = 400\n",
        "#d1['e'] = 500\n",
        "#print(d1)\n"
      ],
      "execution_count": null,
      "outputs": [
        {
          "output_type": "stream",
          "text": [
            "{'a': 100, 'b': 200, 'c': 300, 'd': 400, 'e': 500}\n"
          ],
          "name": "stdout"
        }
      ]
    },
    {
      "cell_type": "markdown",
      "metadata": {
        "id": "pPpGZbyBSN8Q"
      },
      "source": [
        "\n",
        "\n",
        "### P4.PY\n",
        "\n",
        "\n"
      ]
    },
    {
      "cell_type": "code",
      "metadata": {
        "id": "HLyWTctsSN8R",
        "outputId": "9de6bfdd-552a-4133-b37e-32b4daaf9c01",
        "colab": {
          "base_uri": "https://localhost:8080/",
          "height": 34
        }
      },
      "source": [
        "\"\"\"\n",
        "Lists to Dicts\n",
        "\"\"\"\n",
        "\n",
        "# Turn these two lists into a dict called grades.\n",
        "\n",
        "names = ['Taq', 'Zola', 'Valerie', 'Valerie']\n",
        "scores = [[98, 89, 92, 94], [86, 45, 98, 100], [100, 100, 100, 100], [76, 79, 80, 82]]\n",
        "\n",
        "\n",
        "grades = dict(zip(names, scores))\n",
        "print(grades)\n",
        "### grades = "
      ],
      "execution_count": null,
      "outputs": [
        {
          "output_type": "stream",
          "text": [
            "{'Taq': [98, 89, 92, 94], 'Zola': [86, 45, 98, 100], 'Valerie': [76, 79, 80, 82]}\n"
          ],
          "name": "stdout"
        }
      ]
    },
    {
      "cell_type": "markdown",
      "metadata": {
        "id": "j2WZlr4aSN8T"
      },
      "source": [
        "## DICT MANIPULATION\n",
        "\n"
      ]
    },
    {
      "cell_type": "markdown",
      "metadata": {
        "id": "CD6sOl1NSlUd"
      },
      "source": [
        "### P1.PY"
      ]
    },
    {
      "cell_type": "code",
      "metadata": {
        "id": "kevedbhjSN8U",
        "outputId": "6532e855-4333-464c-c1b7-29b638783f49",
        "colab": {
          "base_uri": "https://localhost:8080/",
          "height": 68
        }
      },
      "source": [
        "\"\"\"\n",
        "Basic Login\n",
        "\"\"\"\n",
        "\n",
        "# Imagine you work for a movie streaming service. You're in charge of safeguarding user privacy by ensuring the login feature remains secure. For the sake of example only,\n",
        "# below is the dict of user login info. Normally, you wouldn't have access to see this unencrypted of course!\n",
        "\n",
        "users = {\n",
        "\t'person@email.com': 'PassWord',\n",
        "\t'someone@email.com': 'hiitsme',\n",
        "\t'me@email.com': 'myPassword',\n",
        "\t'anyone@email.com': 'IMawesome',\n",
        "\t'guy@email.com': 'pa$$wordz'\n",
        "\t\n",
        "}\n",
        "\n",
        "\n",
        "# A user enters the below login info (email and password) for your app. Search your database of user logins to see if this account exists and if the password matches what you \n",
        "# have on file. If the login credentials are correct, print \"Successful login!\". Otherwise, print \"The login info you entered does not match any of our records.\"\n",
        "\n",
        "current_user = { 'me@email.com': 'myPassword' }\n",
        "\n",
        "input = list(current_user.keys()) \t\t\t\t\t\t\t#basically change everything to lists\n",
        "value = list(current_user.values())\t\t\t\t\t#but need to do for both keys and values. not just the whole list (i think)\n",
        "user_keys = list(users.keys())\n",
        "user_values = list(users.values())\n",
        "\n",
        "print(input[0])\t\t\t\t\t\t\t\t\t\t\t\t#this gives me the value without brackets and worked in the if statement\n",
        "print(value[0])\n",
        "\n",
        "if value[0] in user_values and input[0] in user_keys:\t\t\t\t\t\t\n",
        "\t\tprint('Successful login!')\n",
        "else:\n",
        "\t\tprint('The login info you entered does not match any of our records')"
      ],
      "execution_count": null,
      "outputs": [
        {
          "output_type": "stream",
          "text": [
            "me@email.com\n",
            "myPassword\n",
            "Successful login!\n"
          ],
          "name": "stdout"
        }
      ]
    },
    {
      "cell_type": "markdown",
      "metadata": {
        "id": "KbjvMBP_SN8W"
      },
      "source": [
        "\n",
        "\n",
        "### P2.PY\n",
        "\n",
        "\n"
      ]
    },
    {
      "cell_type": "code",
      "metadata": {
        "id": "SjdXQ_MiSN8X",
        "outputId": "c077f6b4-1a40-4182-c9ab-056bdbe0b65f",
        "colab": {
          "base_uri": "https://localhost:8080/",
          "height": 221
        }
      },
      "source": [
        "\"\"\"\n",
        "Math with Girl Scout Cookies\n",
        "\"\"\"\n",
        "\n",
        "# Print out the number of boxes of girl scout cookies that each girl in the troop sold in the below format:\n",
        "\t# Wendy: _____\n",
        "\t# Connie: _____\n",
        "\t# Francesca: _____\n",
        "\n",
        "Wendy = {'tagalongs': 5, 'thin mints': 12, 'samoas': 8}\n",
        "Connie = {'tagalongs': 10, 'thin mints': 4, 'samoas': 12}\n",
        "Francesca = {'tagalongs': 18, 'thin mints': 14, 'samoas': 10}\n",
        "\n",
        "salesW = sum(list(Wendy.values()))\t\t# get the values, make them a list, sum them up\n",
        "salesC = sum(list(Connie.values()))\n",
        "salesF = sum(list(Francesca.values()))\n",
        "### salesC = \n",
        "### salesF = \n",
        "\n",
        "print(f' Wendy: {salesW}')\n",
        "print(f' Connie: {salesC}')\n",
        "print(f' Francesca: {salesF}')\n",
        "\n",
        "# For each type of girl scout cookie, print out the total number of boxes sold in the below format:\n",
        "\t# tagalongs: _____\n",
        "\t# thin mints: _____\n",
        "\t# samoas: _____\n",
        "print('TOTALS')\n",
        "total_tagalongs = Wendy['tagalongs'] + Connie['tagalongs'] + Francesca['tagalongs']\n",
        "print(f' tagalongs: {total_tagalongs}')\n",
        "total_thinmints = Wendy['thin mints'] + Connie['thin mints'] + Francesca['thin mints']\n",
        "print(f' thin mints: {total_thinmints}')\n",
        "total_samoas = Wendy['samoas'] + Connie['samoas'] + Francesca['samoas']\n",
        "print(f' samoas: {total_samoas}')\n",
        "\n",
        "\n",
        "# For each type of girl scout cookie, print out the average number of boxes sold in the below format:\n",
        "\t# tagalongs: _____\n",
        "\t# thin mints: _____\n",
        "\t# samoas: _____\n",
        "\n",
        "print('AVERAGES')\n",
        "num_each = list(Wendy.keys()) + list(Connie.keys()) + list(Francesca.keys())\n",
        "countT = num_each.count('tagalongs')\t\t\t#got the count of tagalongs\n",
        "avg_tagalongs = total_tagalongs / countT\n",
        "print(f' tagalongs: {avg_tagalongs}')\n",
        "\n",
        "countTM = num_each.count('thin mints')\t\t\t\n",
        "avg_thinmints = total_thinmints / countTM\n",
        "print(f' thin mints: {avg_thinmints}')\n",
        "\n",
        "countS = num_each.count('samoas')\t\t\t\n",
        "avg_samoas = total_samoas / countS\n",
        "print(f' samoas: {avg_samoas}')\n",
        "\n",
        "\n",
        "\n",
        "# Print out total the number of boxes of cookies the girls sold collectively as follows:\n",
        "\t# \"This year we sold ______ boxes!\"\n",
        "\n",
        "boxes_sold = salesW + salesC + salesF \n",
        "print(f'This year we sold {boxes_sold} boxes!')\n"
      ],
      "execution_count": null,
      "outputs": [
        {
          "output_type": "stream",
          "text": [
            " Wendy: 25\n",
            " Connie: 26\n",
            " Francesca: 42\n",
            "TOTALS\n",
            " tagalongs: 33\n",
            " thin mints: 30\n",
            " samoas: 30\n",
            "AVERAGES\n",
            " tagalongs: 11.0\n",
            " thin mints: 10.0\n",
            " samoas: 10.0\n",
            "This year we sold 93 boxes!\n"
          ],
          "name": "stdout"
        }
      ]
    },
    {
      "cell_type": "markdown",
      "metadata": {
        "id": "U32QUUqHSN8b"
      },
      "source": [
        "\n",
        "\n",
        "### P3.PY\n",
        "\n",
        "\n"
      ]
    },
    {
      "cell_type": "code",
      "metadata": {
        "id": "UfPFoSqGSN8d",
        "outputId": "9618ce3b-bd25-4726-d313-431811907c0c",
        "colab": {
          "base_uri": "https://localhost:8080/",
          "height": 68
        }
      },
      "source": [
        "\"\"\"\n",
        "Inverting Keys & Values\n",
        "\"\"\"\n",
        "\n",
        "# Invert dict1 - make the current keys into values and the current values into keys.\n",
        "\n",
        "\n",
        "dict1 = { 'k1' : \"v1\", \"k2\" : \"v2\", \"k3\" : \"v3\" }         #asked juliann if the lsat one is a typo. b/c it screws up the later part b/c its a duplicate. can a dictionary even have a dup key?\n",
        "                                                      #confirmed and changed to v3\n",
        "vals = list(dict1.values())\n",
        "keys = list(dict1.keys())\n",
        "\n",
        "print(vals)\n",
        "print(keys)\n",
        "\n",
        "dict2 = dict(zip(vals, keys))\n",
        "print(dict2)"
      ],
      "execution_count": null,
      "outputs": [
        {
          "output_type": "stream",
          "text": [
            "['v1', 'v2', 'v3']\n",
            "['k1', 'k2', 'k3']\n",
            "{'v1': 'k1', 'v2': 'k2', 'v3': 'k3'}\n"
          ],
          "name": "stdout"
        }
      ]
    },
    {
      "cell_type": "code",
      "metadata": {
        "id": "XgzLpq1_5uTL",
        "outputId": "9068a9a2-5d6e-42aa-cfa5-4eee6927c533",
        "colab": {
          "base_uri": "https://localhost:8080/",
          "height": 34
        }
      },
      "source": [
        "dict1 = { 'k1' : \"v1\", \"k2\" : \"v2\", \"k3\" : \"v3\" } \n",
        "\n",
        "dict1['k1'] = 'v1' + 'v2'\n",
        "print(dict1['k1'])"
      ],
      "execution_count": null,
      "outputs": [
        {
          "output_type": "stream",
          "text": [
            "v1v2\n"
          ],
          "name": "stdout"
        }
      ]
    },
    {
      "cell_type": "markdown",
      "metadata": {
        "id": "1Z5ZE-l3T-Zs"
      },
      "source": [
        "## DICT LOOPS\n",
        "\n",
        "\n"
      ]
    },
    {
      "cell_type": "markdown",
      "metadata": {
        "id": "qOHH_tdgUIzl"
      },
      "source": [
        "### P1.PY"
      ]
    },
    {
      "cell_type": "code",
      "metadata": {
        "id": "VAvRbaZiT-Zt",
        "outputId": "b0f52501-0f0a-4ed2-bdfa-9ed32e11c064",
        "colab": {
          "base_uri": "https://localhost:8080/",
          "height": 102
        }
      },
      "source": [
        "\"\"\"\n",
        "Contacts\n",
        "\"\"\"\n",
        "\n",
        "# You went to a conference and got people to sign up for text updates from your startup. Go through this dict to make the phone numbers readable to a computer. \n",
        "\n",
        "# Hint: It can't include any non-numeric\n",
        "# characters.\n",
        "\n",
        "contacts = {\n",
        "\t'Jamie': '1.192.168.0143',\n",
        "\t'Kartik': '1.837.209.1121',\n",
        "\t'Grant': '1.826.386.1758',\n",
        "\t'Brandon': '1.935.297.9447',\n",
        "\t'Monique': '1.702.716.5353',\n",
        "\t'Sohom': '1.576.619.6100',\n",
        "}\n",
        "\n",
        "phones = list(contacts.values())\n",
        "print(phones)\n",
        "newphones = str(phones)\n",
        "print(newphones)\n",
        "\n",
        "replace_dict = {'.' : \"\"}\n",
        "for period, blank in replace_dict.items():\n",
        "\tnewphones = newphones.replace(period, blank)\n",
        "print(newphones)\n",
        "\n",
        "newkeys= list(contacts.keys())\n",
        "print(newkeys)\n",
        "newcontacts = dict(zip(newkeys,newphones))\t\t\t\t#not sure why its splittling up the first value in the list of new phones\n",
        "print(newcontacts)\n"
      ],
      "execution_count": null,
      "outputs": [
        {
          "output_type": "stream",
          "text": [
            "['1.192.168.0143', '1.837.209.1121', '1.826.386.1758', '1.935.297.9447', '1.702.716.5353', '1.576.619.6100']\n",
            "['1.192.168.0143', '1.837.209.1121', '1.826.386.1758', '1.935.297.9447', '1.702.716.5353', '1.576.619.6100']\n",
            "['11921680143', '18372091121', '18263861758', '19352979447', '17027165353', '15766196100']\n",
            "['Jamie', 'Kartik', 'Grant', 'Brandon', 'Monique', 'Sohom']\n",
            "{'Jamie': '[', 'Kartik': \"'\", 'Grant': '1', 'Brandon': '1', 'Monique': '9', 'Sohom': '2'}\n"
          ],
          "name": "stdout"
        }
      ]
    },
    {
      "cell_type": "code",
      "metadata": {
        "id": "xj_pWxH4xXLN"
      },
      "source": [
        ""
      ],
      "execution_count": null,
      "outputs": []
    },
    {
      "cell_type": "markdown",
      "metadata": {
        "id": "I9eekKo7T-Zv"
      },
      "source": [
        "\n",
        "\n",
        "### P2.PY\n",
        "\n",
        "\n"
      ]
    },
    {
      "cell_type": "code",
      "metadata": {
        "id": "rjRPhf-oT-Zw",
        "outputId": "2fa01a21-5dcf-49c4-e3f7-27895aa651fb",
        "colab": {
          "base_uri": "https://localhost:8080/",
          "height": 68
        }
      },
      "source": [
        "\"\"\"\n",
        "Grades\n",
        "\"\"\"\n",
        "# Here's a dict containing students' grades from the semester's assignments.\n",
        "\n",
        "students = {\n",
        "  'Ashton': [86, 45, 98, 100],\n",
        "  'Sierra': [100, 100, 100, 100],\n",
        "  'Zach': [38, 49, 90, 87],\n",
        "  'Manuel': [98, 92, 86, 100],\n",
        "  'Felicia': [94, 87, 89, 95],\n",
        "  'Ankur': [75, 77, 77, 85],\n",
        "  'Ananya': [98, 94, 87, 92],\n",
        "  'Nick': [79, 84, 89, 90],\n",
        "  'Olivia': [83, 91, 69, 85],\n",
        "  'Molly': [83, 74, 72, 90]\n",
        "}\n",
        "\n",
        "# p 1.1) Create a dict called num_grades to store each student's average numerical grade for the semester.\n",
        "\n",
        "student_list  = list(students.values())\n",
        "avg1 = sum(student_list[0]) / len(student_list[0])\n",
        "avg2 = sum(student_list[1]) / len(student_list[1])\n",
        "avg3 = sum(student_list[2]) / len(student_list[2])\n",
        "avg4 = sum(student_list[3]) / len(student_list[3])\n",
        "avg5 = sum(student_list[4]) / len(student_list[4])\n",
        "avg6 = sum(student_list[5]) / len(student_list[5])\n",
        "avg7 = sum(student_list[6]) / len(student_list[6])\n",
        "avg8 = sum(student_list[7]) / len(student_list[7])\n",
        "avg9 = sum(student_list[8]) / len(student_list[8])\n",
        "avg10 = sum(student_list[9]) / len(student_list[9])\n",
        "\n",
        "averages = [avg1,avg2,avg3,avg4,avg5,avg6,avg7,avg8,avg9,avg10]\n",
        "\n",
        "\n",
        "student_names = list(students.keys())\n",
        "\n",
        "name1 = student_names[0]\n",
        "name2 = student_names[1]\n",
        "name3 = student_names[2]\n",
        "name4 = student_names[3]\n",
        "name5 = student_names[4]\n",
        "name6 = student_names[5]\n",
        "name7 = student_names[6]\n",
        "name8 = student_names[7]\n",
        "name9 = student_names[8]\n",
        "name10 = student_names[9]\n",
        "\n",
        "final_names = (name1,name2,name3,name4,name5,name6,name7,name8,name9,name10)\n",
        "\n",
        "num_grades = dict(zip(final_names,averages))\n",
        "print(num_grades)\n",
        "\n",
        "\n",
        "# p 1.2) Create a dict called letter_grades to store each student's final letter grade for the semester. Use A, B, C, D, and F as grades per the standard grading scale.\n",
        "\n",
        "if avg1 >= 90:\n",
        "  grade1 = 'A'\n",
        "elif avg1 >= 80:\n",
        "  grade1 = 'B'\n",
        "elif avg1 >= 70:\n",
        "  grade1 = 'C'\n",
        "elif avg1 >= 60:\n",
        "  grade1 = 'D'\n",
        "else:\n",
        "  grade1 = 'F'\n",
        "\n",
        "if avg2 >= 90:\n",
        "  grade2 = 'A'\n",
        "elif avg2 >= 80:\n",
        "  grade2 = 'B'\n",
        "elif avg2 >= 70:\n",
        "  grade2 = 'C'\n",
        "elif avg2 >= 60:\n",
        "  grade2 = 'D'\n",
        "else:\n",
        "  grade2 = 'F'\n",
        "\n",
        "if avg3 >= 90:\n",
        "  grade3 = 'A'\n",
        "elif avg3 >= 80:\n",
        "  grade3 = 'B'\n",
        "elif avg3 >= 70:\n",
        "  grade3 = 'C'\n",
        "elif avg3 >= 60:\n",
        "  grade3 = 'D'\n",
        "else:\n",
        "  grade3 = 'F'\n",
        "\n",
        "if avg4 >= 90:\n",
        "  grade4 = 'A'\n",
        "elif avg4 >= 80:\n",
        "  grade4 = 'B'\n",
        "elif avg4 >= 70:\n",
        "  grade4 = 'C'\n",
        "elif avg4 >= 60:\n",
        "  grade4 = 'D'\n",
        "else:\n",
        "  grade4 = 'F'\n",
        "\n",
        "if avg5 >= 90:\n",
        "  grade5 = 'A'\n",
        "elif avg5 >= 80:\n",
        "  grade5 = 'B'\n",
        "elif avg5 >= 70:\n",
        "  grade5 = 'C'\n",
        "elif avg5 >= 60:\n",
        "  grade5 = 'D'\n",
        "else:\n",
        "  grade5 = 'F'\n",
        "\n",
        "if avg6 >= 90:\n",
        "  grade6 = 'A'\n",
        "elif avg6 >= 80:\n",
        "  grade6 = 'B'\n",
        "elif avg6 >= 70:\n",
        "  grade6 = 'C'\n",
        "elif avg6 >= 60:\n",
        "  grade6 = 'D'\n",
        "else:\n",
        "  grade6 = 'F'\n",
        "\n",
        "\n",
        "if avg7 >= 90:\n",
        "  grade7 = 'A'\n",
        "elif avg7 >= 80:\n",
        "  grade7 = 'B'\n",
        "elif avg7 >= 70:\n",
        "  grade7 = 'C'\n",
        "elif avg7 >= 60:\n",
        "  grade7 = 'D'\n",
        "else:\n",
        "  grade7 = 'F'\n",
        "\n",
        "if avg8 >= 90:\n",
        "  grade8 = 'A'\n",
        "elif avg8 >= 80:\n",
        "  grade8 = 'B'\n",
        "elif avg8 >= 70:\n",
        "  grade8 = 'C'\n",
        "elif avg8 >= 60:\n",
        "  grade8 = 'D'\n",
        "else:\n",
        "  grade8 = 'F'\n",
        "\n",
        "\n",
        "if avg9 >= 90:\n",
        "  grade9 = 'A'\n",
        "elif avg9 >= 80:\n",
        "  grade9 = 'B'\n",
        "elif avg9 >= 70:\n",
        "  grade9 = 'C'\n",
        "elif avg9 >= 60:\n",
        "  grade9 = 'D'\n",
        "else:\n",
        "  grade9 = 'F'\n",
        "\n",
        "if avg10 >= 90:\n",
        "  grade10 = 'A'\n",
        "elif avg10 >= 80:\n",
        "  grade10 = 'B'\n",
        "elif avg10 >= 70:\n",
        "  grade10 = 'C'\n",
        "elif avg10 >= 60:\n",
        "  grade10 = 'D'\n",
        "else:\n",
        "  grade10 = 'F'\n",
        "\n",
        "final_grades = (grade1,grade2,grade3,grade4,grade5,grade6,grade7,grade8,grade9,grade10)\n",
        "\n",
        "letter_grades = dict(zip(final_names,final_grades))\n",
        "print(letter_grades)\n",
        "\n",
        "\n",
        "\n",
        "# p 1.3) Create a list of honor roll students (i.e. students who got A's).\n",
        "\n",
        "honor_roll = []\n",
        "if letter_grades['Ashton'] == 'A':\n",
        "  print('Ashton')\n",
        "elif letter_grades['Sierra'] == 'A':      #not sure how to keep it going thru after one true \n",
        "  print('Sierra')\n",
        "elif letter_grades['Zach'] == 'A':\n",
        "  print('Zach')\n",
        "elif letter_grades['Manuel'] == 'A':\n",
        "  print('Manuel')\n",
        "elif letter_grades['Felicia'] == 'A':\n",
        "  print('Felicia')\n",
        "elif letter_grades['Ankur'] == 'A':\n",
        "  print('Ankur')\n",
        "elif letter_grades['Ananya'] == 'A':\n",
        "  print('Ananya')\n",
        "elif letter_grades['Nick'] == 'A':\n",
        "  print('Nick')\n",
        "elif letter_grades['Olivia'] == 'A':\n",
        "  print('Olivia')\n",
        "elif letter_grades['Molly'] == 'A':\n",
        "  print('Molly')\n",
        "# honor_roll \n",
        "\n"
      ],
      "execution_count": null,
      "outputs": [
        {
          "output_type": "stream",
          "text": [
            "{'Ashton': 82.25, 'Sierra': 100.0, 'Zach': 66.0, 'Manuel': 94.0, 'Felicia': 91.25, 'Ankur': 78.5, 'Ananya': 92.75, 'Nick': 85.5, 'Olivia': 82.0, 'Molly': 79.75}\n",
            "{'Ashton': 'B', 'Sierra': 'A', 'Zach': 'D', 'Manuel': 'A', 'Felicia': 'A', 'Ankur': 'C', 'Ananya': 'A', 'Nick': 'B', 'Olivia': 'B', 'Molly': 'C'}\n",
            "Sierra\n"
          ],
          "name": "stdout"
        }
      ]
    },
    {
      "cell_type": "markdown",
      "metadata": {
        "id": "fjXYhpR_T-Zz"
      },
      "source": [
        "\n",
        "\n",
        "### P3.PY\n",
        "\n",
        "\n"
      ]
    },
    {
      "cell_type": "code",
      "metadata": {
        "id": "dnNTo_y5T-Z0",
        "outputId": "b77d6f65-2a56-4874-8105-f9e8b378b96e",
        "colab": {
          "base_uri": "https://localhost:8080/",
          "height": 51
        }
      },
      "source": [
        "\"\"\"\n",
        "Price Inventory\n",
        "\"\"\"\n",
        "\n",
        "# Imagine you're the owner of an Italian restaurant. You're evaluating your pricing to make sure it's up to date with the latest costs of making each \n",
        "#\tmenu item (see the menu prices and costs dicts below). Evaluate whether each item's price returns a profit margin of at least $1.00. \n",
        "#\tIf it doesn't, update the menu_prices dict with a new price that gives the item a $1.00 profit margin. \n",
        "#\tThen print out the items which you've repriced in a new dict called price_increases.\n",
        "\n",
        "menu_prices = {\n",
        "\t'fettuccine bolognese': 14.99,\n",
        "\t'gnocchi gorgonzola': 10.99,\n",
        "\t'chicken parmigiano': 13.99,\n",
        "\t'butternut squash risotto': 9.99,\n",
        "\t'spaghetti carbonara': 12.99,\n",
        "\t'pizza margherita': 12.99,\n",
        "\t'chicken marsala': 13.99\n",
        "}\n",
        "\n",
        "menu_costs = {\n",
        "\t'fettuccine bolognese': 12.50,\n",
        "\t'gnocchi gorgonzola': 11.25,\n",
        "\t'chicken parmigiano': 11.75,\n",
        "\t'butternut squash risotto': 6.33,\n",
        "\t'spaghetti carbonara': 12.90,\n",
        "\t'pizza margherita': 14.00,\n",
        "\t'chicken marsala': 11.75\n",
        "}\n",
        "\n",
        "\n",
        "if menu_prices['fettuccine bolognese'] - menu_costs['fettuccine bolognese'] < 1:\t\t\t# i cannot figure out this for loop, tried a few different ways\n",
        "\n",
        "\n",
        "print(menu_prices['fettuccine bolognese'], menu_costs['fettuccine bolognese'])\n",
        "\n",
        "price_increases = {}\n",
        "price_increases.update({'fettuccine bolognese' : 1.23})\n",
        "print(price_increases)\n"
      ],
      "execution_count": null,
      "outputs": [
        {
          "output_type": "stream",
          "text": [
            "14.99 12.5\n",
            "{'fettuccine bolognese': 1.23}\n"
          ],
          "name": "stdout"
        }
      ]
    },
    {
      "cell_type": "markdown",
      "metadata": {
        "id": "OY4HIe9zSN8g"
      },
      "source": [
        "## COUNTERS CHALLENGE\n",
        "\n",
        "\n"
      ]
    },
    {
      "cell_type": "markdown",
      "metadata": {
        "id": "n6-wbcqISxIr"
      },
      "source": [
        "### P1.PY"
      ]
    },
    {
      "cell_type": "code",
      "metadata": {
        "id": "LKLiEr_3SN8g",
        "outputId": "6d355106-b00f-4991-f22c-c5f22f903ac7",
        "colab": {
          "base_uri": "https://localhost:8080/",
          "height": 85
        }
      },
      "source": [
        "\"\"\"\n",
        "Word Frequency\n",
        "\"\"\"\n",
        "\n",
        "# Print out the number of words in this movie quote. Find and print out the most common word in the quote and how many times it was used.\n",
        "### Hint: You do not need a loop for this. Look up the Counter docs in python3.\n",
        "\n",
        "from collections import Counter\n",
        "\n",
        "princess_bride = [\n",
        "'Hello', 'my', 'name', 'is', 'Inigo', 'Montoya',\n",
        "'You', 'killed', 'my', 'father',\n",
        "'Prepare', 'to', 'die'\n",
        "]\n",
        "\n",
        "pb_list = list(princess_bride)\n",
        "print(len(pb_list))     # number of words \n",
        "\n",
        "print(Counter(pb_list))\n",
        "counted_list = Counter(pb_list)\n",
        "most_common = counted_list.most_common()\n",
        "print(most_common)\n",
        "print(most_common[0])             # prints the first one which is most common \n",
        "#common_element1 = counter1.most_common()\n",
        "\n",
        "\n",
        "### fave_word = \n",
        "\n",
        "# p.s. You might use this to help analyze the most common topic in comments or reviews from your users to help understand the best places to improve you product."
      ],
      "execution_count": null,
      "outputs": [
        {
          "output_type": "stream",
          "text": [
            "13\n",
            "Counter({'my': 2, 'Hello': 1, 'name': 1, 'is': 1, 'Inigo': 1, 'Montoya': 1, 'You': 1, 'killed': 1, 'father': 1, 'Prepare': 1, 'to': 1, 'die': 1})\n",
            "[('my', 2), ('Hello', 1), ('name', 1), ('is', 1), ('Inigo', 1), ('Montoya', 1), ('You', 1), ('killed', 1), ('father', 1), ('Prepare', 1), ('to', 1), ('die', 1)]\n",
            "('my', 2)\n"
          ],
          "name": "stdout"
        }
      ]
    },
    {
      "cell_type": "markdown",
      "metadata": {
        "id": "7L4oLSDpSN8n"
      },
      "source": [
        "\n",
        "\n",
        "### P2.PY\n",
        "\n",
        "\n"
      ]
    },
    {
      "cell_type": "code",
      "metadata": {
        "id": "MYo0kTxuSN8o",
        "outputId": "f367aef3-10b7-43fe-b5f6-1db7b4fedfc3",
        "colab": {
          "base_uri": "https://localhost:8080/",
          "height": 34
        }
      },
      "source": [
        "\"\"\"\n",
        "Summing Dict Values\n",
        "\"\"\"\n",
        "\n",
        "# Two Kindergarten teachers poll their classes for what fruit they want to eat for snacktime tomorrow. Only one of them is going shopping, \n",
        "# so she needs to know how many of each fruit she needs to buy in total. Tally these up and assign them to the \"shopping_list\" dict.\n",
        "\n",
        "poll1 = {'apples': 8, 'bananas': 12}\n",
        "poll2 = {'apples': 6, 'bananas': 6, 'clementines': 8}\n",
        "\n",
        "list1 = list(poll1.items())\n",
        "\n",
        "list2 = list(poll2.items())\n",
        "\n",
        "\n",
        "app  = (poll1['apples'] + poll2['apples'])\n",
        "ban = (poll1['bananas'] + poll2 ['bananas'])\n",
        "clem = (poll2 ['clementines'])\n",
        "\n",
        "shopping_list = print(f\" apples to buy : {app}, bananas to buy: {ban},  clementines to buy: {clem}\")\n",
        "\n",
        "\n"
      ],
      "execution_count": null,
      "outputs": [
        {
          "output_type": "stream",
          "text": [
            " apples to buy : 14, bananas to buy: 18,  clementines to buy: 8\n"
          ],
          "name": "stdout"
        }
      ]
    },
    {
      "cell_type": "code",
      "metadata": {
        "id": "Pcy6cEtZ13H_"
      },
      "source": [
        ""
      ],
      "execution_count": null,
      "outputs": []
    }
  ]
}