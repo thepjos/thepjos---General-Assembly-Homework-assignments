{
  "nbformat": 4,
  "nbformat_minor": 0,
  "metadata": {
    "colab": {
      "name": "GeneralAssembly Python Homework-conditionals.ipynb",
      "provenance": [],
      "collapsed_sections": [
        "c70y61m1Vtn3",
        "zayFQdU7Vto2"
      ],
      "include_colab_link": true
    },
    "kernelspec": {
      "name": "python3",
      "display_name": "Python 3"
    }
  },
  "cells": [
    {
      "cell_type": "markdown",
      "metadata": {
        "id": "view-in-github",
        "colab_type": "text"
      },
      "source": [
        "<a href=\"https://colab.research.google.com/github/thepjos/thepjos/blob/main/GeneralAssembly_Python_Homework_conditionals.ipynb\" target=\"_parent\"><img src=\"https://colab.research.google.com/assets/colab-badge.svg\" alt=\"Open In Colab\"/></a>"
      ]
    },
    {
      "cell_type": "markdown",
      "metadata": {
        "id": "FiL9pv11VtnR"
      },
      "source": [
        "#  CONDITIONALS\n",
        "\n",
        "\n"
      ]
    },
    {
      "cell_type": "markdown",
      "metadata": {
        "id": "gijpYMCLV00L"
      },
      "source": [
        "## WEATHER"
      ]
    },
    {
      "cell_type": "markdown",
      "metadata": {
        "id": "KL7ytXn4V2WB"
      },
      "source": [
        "### P1.PY"
      ]
    },
    {
      "cell_type": "code",
      "metadata": {
        "id": "e32ChHBAVtnU",
        "outputId": "a86594c5-87f9-4958-d8ff-18957c11f7b3",
        "colab": {
          "base_uri": "https://localhost:8080/",
          "height": 85
        }
      },
      "source": [
        "\"\"\"\n",
        "Weather I - Do you need boots?\n",
        "\"\"\"\n",
        "\n",
        "# Use the values of the vars defined below to ouput the correct contextual answer to the questions below. (Note: The variables themselves ARE the questions.)\n",
        "\n",
        "# Example:\n",
        "## am_i_hungry = False\n",
        "## am_i_tired = True\n",
        "## do_i_need_to_stay_awake = False\n",
        "\n",
        "## should_i_drink_coffee_now = am_i_tired and do_i_need_to_stay_awake\n",
        "\n",
        "## ^^ This ^^ evaluates to False. If you're tired and don't need to stay awake, you don't need to drink coffee!\n",
        "\n",
        "\n",
        "is_it_raining = True\n",
        "is_it_snowing = False\n",
        "\n",
        "\n",
        "\n",
        "do_i_need_snow_boots = is_it_snowing #if its snowing, need boots. shouldnt matter if its raining\n",
        "print(do_i_need_snow_boots)                 \n",
        "can_i_skip_snow_boots = not is_it_snowing  # find out if its NOT the current status of snowing\n",
        "print(can_i_skip_snow_boots)\n",
        "do_i_need_rain_boots = is_it_raining or is_it_snowing       # assuming you dont own snow boots. if its raining or snowing, you'd want some boots, even if just rainboots\n",
        "print(do_i_need_rain_boots)\n",
        "can_i_skip_rain_boots = not is_it_snowing or not is_it_raining    # basically asking, can i wear regular shoes. if its neither raining nor snowing then sure\n",
        "print(can_i_skip_rain_boots)"
      ],
      "execution_count": null,
      "outputs": [
        {
          "output_type": "stream",
          "text": [
            "False\n",
            "True\n",
            "True\n",
            "True\n"
          ],
          "name": "stdout"
        }
      ]
    },
    {
      "cell_type": "markdown",
      "metadata": {
        "id": "t9cxGL-8VtnX"
      },
      "source": [
        "\n",
        "\n",
        "### P2.PY\n",
        "\n",
        "\n"
      ]
    },
    {
      "cell_type": "code",
      "metadata": {
        "id": "y80DTzliVtnY",
        "outputId": "b86120db-dab4-4dbb-9b1d-3dfe5d99be3f",
        "colab": {
          "base_uri": "https://localhost:8080/",
          "height": 85
        }
      },
      "source": [
        "\"\"\"\n",
        "Weather II - Precipitation\n",
        "\"\"\"\n",
        "\n",
        "# Repeat the same process as p1, using this new set of variables.\n",
        "\n",
        "sunny = True\n",
        "raining = True\n",
        "snowing = False\n",
        "\n",
        "is_it_sunny = sunny #only need to know if the sun is out\n",
        "print(is_it_sunny)\n",
        "is_there_precipitation = raining or snowing   # only one of the types of precipitation need to be true\n",
        "print(is_there_precipitation)\n",
        "is_it_sleeting = raining and snowing   #sleet is defined as, a mixture of rain and snow. so if thats the case, both must be true\n",
        "print(is_it_sleeting)\n",
        "is_there_rainbow = sunny and raining   #rainbow defined as, sun reflecting off rain. so both must be true\n",
        "print(is_there_rainbow)"
      ],
      "execution_count": null,
      "outputs": [
        {
          "output_type": "stream",
          "text": [
            "True\n",
            "True\n",
            "False\n",
            "True\n"
          ],
          "name": "stdout"
        }
      ]
    },
    {
      "cell_type": "markdown",
      "metadata": {
        "id": "777sx1WCVtno"
      },
      "source": [
        "\n",
        "\n",
        "### P3.PY\n",
        "\n",
        "\n"
      ]
    },
    {
      "cell_type": "code",
      "metadata": {
        "id": "9dNGqX2wVtnp",
        "outputId": "bcae8afd-7d76-4afc-9a64-1fa27294ec56",
        "colab": {
          "base_uri": "https://localhost:8080/",
          "height": 85
        }
      },
      "source": [
        "\"\"\"\n",
        "Weather III - Describe Conditions\n",
        "\"\"\"\n",
        "\n",
        "# Repeat the same process as p1, using this new set of variables.\n",
        "\n",
        "\n",
        "is_it_warm = True\n",
        "is_it_humid = True\n",
        "is_it_cold = False\n",
        "is_it_icy = False\n",
        "is_it_foggy = False\n",
        "is_it_windy = False\n",
        "is_it_overcast = True\n",
        "\n",
        "\n",
        "is_it_summer_weather = is_it_warm and not is_it_overcast     #defined as hot and sunny\n",
        "print(is_it_summer_weather)\n",
        "is_rain_coming = is_it_overcast  # defined as , clouds overhead that could bring rain\n",
        "print(is_rain_coming)\n",
        "is_it_muggy = is_it_humid       #muggy is humidity\n",
        "print(is_it_muggy)\n",
        "do_i_need_coat = is_it_cold or is_it_icy   # coat needed to block any precipitation OR cold weather . ice only grows in cold weather\n",
        "print(do_i_need_coat)\n",
        "\n"
      ],
      "execution_count": null,
      "outputs": [
        {
          "output_type": "stream",
          "text": [
            "False\n",
            "True\n",
            "True\n",
            "False\n"
          ],
          "name": "stdout"
        }
      ]
    },
    {
      "cell_type": "markdown",
      "metadata": {
        "id": "c70y61m1Vtn3"
      },
      "source": [
        "## LOGIC\n",
        "\n",
        "\n"
      ]
    },
    {
      "cell_type": "markdown",
      "metadata": {
        "id": "6IGtJU8oV5a8"
      },
      "source": [
        "### P1.PY"
      ]
    },
    {
      "cell_type": "code",
      "metadata": {
        "id": "8dx3WRHBVtn4",
        "outputId": "8f015d62-c9a0-42ce-a0c6-2c7db4be9742",
        "colab": {
          "base_uri": "https://localhost:8080/",
          "height": 34
        }
      },
      "source": [
        "\"\"\"\n",
        "Calculate Grade\n",
        "\"\"\"\n",
        "\n",
        "grade = -5  # expect this to be a number\n",
        "\n",
        "# write a program that will print the \"letter\"\n",
        "# equivalent of the grade, for example:\n",
        "# when grade = 90 # -> expect A\n",
        "# when grade = 80 # -> expect B\n",
        "# when grade = 70 # -> expect C\n",
        "# when grade = 60 # -> expect D\n",
        "# when grade = 54 # -> expect F\n",
        "# when grade = -10 # -> expect Error\n",
        "# when grade = 10000 # -> expect Error\n",
        "# when grade = \"lol skool sucks\" # -> expect Error\n",
        "\n",
        "if grade < 0:\n",
        "\tprint('Error')\n",
        "elif grade < 60:  #since 54 is less than 60 i assumed that meant F as well\n",
        "\tprint('F')\n",
        "elif grade < 70:  #assumed grade numbers could be other than 60,70,80 etc . coudl be in between\n",
        "\tprint('D')\n",
        "elif grade < 80:\n",
        "\tprint('C')\n",
        "elif grade < 90:\n",
        "\tprint('B')\n",
        "elif grade < 100:\n",
        "  print ('A')\n",
        "elif grade > 100:\n",
        "  print ('Error')\n",
        "else:\n",
        "\tprint('Error')\n"
      ],
      "execution_count": null,
      "outputs": [
        {
          "output_type": "stream",
          "text": [
            "Error\n"
          ],
          "name": "stdout"
        }
      ]
    },
    {
      "cell_type": "markdown",
      "metadata": {
        "id": "HLfJLQFKVtoK"
      },
      "source": [
        "\n",
        "\n",
        "### P2.PY\n",
        "\n",
        "\n"
      ]
    },
    {
      "cell_type": "code",
      "metadata": {
        "id": "g3fT3CxqVtoO",
        "outputId": "e018d658-5009-4975-f974-4e842afc58bd",
        "colab": {
          "base_uri": "https://localhost:8080/",
          "height": 34
        }
      },
      "source": [
        "\"\"\"\n",
        "Sign of Product\n",
        "\"\"\"\n",
        "\n",
        "# Given three numbers, a, b, c, without multiplying, determine the sign of their product.\n",
        "\n",
        "# EXAMPLE: a = -5, b = 6, c = -4, print 1\n",
        "\n",
        "# EXAMPLE: a = 5, b = 6, c = -4, print -1\n",
        "\n",
        "a = -5\n",
        "b = 6\n",
        "c = -4\n",
        "\n",
        "if a > 0 and b > 0 and c > 0:  #check to see if all positive. keep going from there, testing one by one. there must be a better way\n",
        "  print ('1')\n",
        "elif a > 0 and b > 0 and c < 0:\n",
        "  print ('-1')\n",
        "elif a > 0 and b < 0 and c < 0:\n",
        "  print ('1')\n",
        "elif a > 0 and b < 0 and c > 0:\n",
        "  print ('-1')\n",
        "elif a < 0 and b > 0 and c > 0:\n",
        "  print ('-1')\n",
        "elif a < 0 and b > 0 and c < 0:\n",
        "  print ('1')\n",
        "elif a < 0 and b < 0 and c < 0:\n",
        "  print ('-1')\n",
        "else:\n",
        "  print ('na')                  # just in case someone types a non number or something. didnt feel right to put it on the last elif statement\n",
        "\n",
        "\n"
      ],
      "execution_count": null,
      "outputs": [
        {
          "output_type": "stream",
          "text": [
            "1\n"
          ],
          "name": "stdout"
        }
      ]
    },
    {
      "cell_type": "markdown",
      "metadata": {
        "id": "eUuhYKriVtoS"
      },
      "source": [
        "\n",
        "\n",
        "### P3.PY\n",
        "\n",
        "\n"
      ]
    },
    {
      "cell_type": "code",
      "metadata": {
        "id": "gtAMAAaYVtoT",
        "outputId": "09e59b20-2fb6-4c5d-e1f5-8e7705e10d57",
        "colab": {
          "base_uri": "https://localhost:8080/",
          "height": 34
        }
      },
      "source": [
        "\"\"\"\n",
        "Any Uppercase\n",
        "\"\"\"\n",
        "\n",
        "# Given a string str, determine if there are any uppercase values in it. Use only conditional statements and string methods (you may have to look some up!)\n",
        "\n",
        "# EXAMPLE: str = \"teSt\", print True\n",
        "\n",
        "str = \"teSt\"\n",
        "result = not str.lower() in str     # .lower figures out if the entire line is lower. if not, then its false. that means at least 1 letter is upper. basically asking \"are they  all lowercase\"\n",
        "                                    # by saying NOT before. you are asking \"if ANY are NOT lowercase\" , so then even 1 letter woudl return true\n",
        "print(result)\n",
        "\n",
        "\n",
        "#print(str.upper())"
      ],
      "execution_count": null,
      "outputs": [
        {
          "output_type": "stream",
          "text": [
            "True\n"
          ],
          "name": "stdout"
        }
      ]
    },
    {
      "cell_type": "markdown",
      "metadata": {
        "id": "wG8CE6QTVtoW"
      },
      "source": [
        "\n",
        "\n",
        "### P4.PY\n",
        "\n",
        "\n"
      ]
    },
    {
      "cell_type": "code",
      "metadata": {
        "id": "xZ5Mt4jSVtoX",
        "outputId": "89fb0879-ff76-418c-f40f-b6c0539293e7",
        "colab": {
          "base_uri": "https://localhost:8080/",
          "height": 34
        }
      },
      "source": [
        "\"\"\"\n",
        "Empty Strings\n",
        "\"\"\"\n",
        "\n",
        "# Given any empty string, of the form:\n",
        "\n",
        "# ''\n",
        "# ' '\n",
        "# '  '\n",
        "# any other num of spaces...\n",
        "\n",
        "# determine if the str is empty or not (print True or False). Hint: You'll need to look up how to remove trailing spaces from a string.\n",
        "\n",
        "str = \"           \"\n",
        "if len(str) == 0:\n",
        "  print(True)\n",
        "else:\n",
        "  print(False)   # when i use len of str, it tells me HOW MANY spaces or spots there are, even if blank. now can do if statement to see if greater than zero \n",
        "\n"
      ],
      "execution_count": null,
      "outputs": [
        {
          "output_type": "stream",
          "text": [
            "False\n"
          ],
          "name": "stdout"
        }
      ]
    },
    {
      "cell_type": "code",
      "metadata": {
        "id": "uUlRO9Z7AbG-",
        "outputId": "fd4bfef1-fa50-49b9-f0a4-44fe7a6f3061",
        "colab": {
          "base_uri": "https://localhost:8080/",
          "height": 34
        }
      },
      "source": [
        "# now doing again using strip \n",
        "str = '          '\n",
        "result = str.strip()   #  if i \"strip\" anything out, does it still equal the original string?\n",
        "if result == str:   #b/c  if there is nothing, nothing is stripped, then original equals stripped\n",
        "  print(True)     # if i use strip and somethign comes out, then the original string wont equal the stripped string \n",
        "else:\n",
        "  print(False)"
      ],
      "execution_count": null,
      "outputs": [
        {
          "output_type": "stream",
          "text": [
            "False\n"
          ],
          "name": "stdout"
        }
      ]
    },
    {
      "cell_type": "markdown",
      "metadata": {
        "id": "WlgQdALoVtof"
      },
      "source": [
        "\n",
        "\n",
        "### P5.PY\n",
        "\n",
        "\n"
      ]
    },
    {
      "cell_type": "code",
      "metadata": {
        "id": "7_k9rebsVtog",
        "outputId": "df0c3d27-ed7f-41e8-ca1b-164363a4c47e",
        "colab": {
          "base_uri": "https://localhost:8080/",
          "height": 85
        }
      },
      "source": [
        "\"\"\"\n",
        "truthTableEvaluator\n",
        "\"\"\"\n",
        "\n",
        "# Given the following inputs:\n",
        "\n",
        "\n",
        "# P = # True or False\n",
        "# Q = # True or False\n",
        "# op = # '^' (logical AND, conjunction)\n",
        "#      # OR, 'v' (logical OR, disjunction)\n",
        "#      # OR, '->' (logical conditional, implication)\n",
        "#      # OR, '<->' (biconditional)\n",
        "# determine the correct outcome.\n",
        "\n",
        "# https://medium.com/i-math/intro-to-truth-tables-boolean-algebra-73b331dd9b94\n",
        "\n",
        "P = input('Please enter True or False:')\n",
        "Q = input('Please enter True or False (different than above):')\n",
        "op = input('Please enter the operator (and, or, ->, <->)')\n",
        "\n",
        "if op == 'and':\n",
        "  if P == 'True' and Q == 'True':\n",
        "    print ('True')\n",
        "  if P == 'True' and Q == 'False':\n",
        "    print('False')\n",
        "  if P == 'False' and Q == 'True':\n",
        "    print('False')\n",
        "  if P == 'False' and Q == 'False':\n",
        "    print('False')\n",
        "elif op == 'or':\n",
        "  if P == 'True' and Q == 'True':\n",
        "    print ('True')\n",
        "  if P == 'True' and Q == 'True':\n",
        "    print('False')\n",
        "  if P == 'False' and Q == 'True':\n",
        "    print('False')\n",
        "  if P == 'False' and Q == 'False':\n",
        "    print('False')\n",
        "elif op == '->':\n",
        "  if P == 'True' and Q == 'True':\n",
        "    print ('True')\n",
        "  if P == 'True' and Q == 'False':\n",
        "    print('False')\n",
        "  if P == 'False' and Q == 'True':\n",
        "    print('False')\n",
        "  if P == 'False' and Q == 'True':\n",
        "    print('False')\n",
        "elif op == '<->':\n",
        "  if P == 'True' and Q == 'True':\n",
        "    print ('True')\n",
        "  if P == 'True' and Q == 'False':\n",
        "    print('False')\n",
        "  if P == 'False' and Q == 'False':\n",
        "    print('False')\n",
        "  if P == 'False' and Q == 'True':\n",
        "    print('False')\n",
        "else:\n",
        "  print('invalid')\n",
        "\n"
      ],
      "execution_count": null,
      "outputs": [
        {
          "output_type": "stream",
          "text": [
            "Please enter True or False:True\n",
            "Please enter True or False (different than above):False\n",
            "Please enter the operator (and, or, ->, <->)<->\n",
            "False\n"
          ],
          "name": "stdout"
        }
      ]
    },
    {
      "cell_type": "markdown",
      "metadata": {
        "id": "zayFQdU7Vto2"
      },
      "source": [
        "## RANDOM NUMBERS\n",
        "\n",
        "\n",
        "\n",
        "\n"
      ]
    },
    {
      "cell_type": "markdown",
      "metadata": {
        "id": "gtAK4fQAV9BC"
      },
      "source": [
        "### P1.PY"
      ]
    },
    {
      "cell_type": "code",
      "metadata": {
        "id": "_dlFvP4QVto3",
        "outputId": "4347dccb-932f-4d89-cf3a-514b3edf2e3d",
        "colab": {
          "base_uri": "https://localhost:8080/",
          "height": 34
        }
      },
      "source": [
        "\"\"\"\n",
        "Generate Traffic Light\n",
        "\"\"\"\n",
        "\n",
        "# import python randomint package\n",
        "\n",
        "\n",
        "# generates a random number from 1 to 3\n",
        "\n",
        "\n",
        "# if 1, print 'red'\n",
        "# if 2, print 'green',\n",
        "# if 3, print 'yellow'\n",
        "\n",
        "from random import randint              \n",
        "number = randint(1,3)     #gives a number between 1 and 3, including 1 and 3\n",
        "if number == 1:\n",
        "  print ('red')\n",
        "elif number == 2:\n",
        "  print ('green')\n",
        "else:                   # if not the first two, must be 3rd so can use else\n",
        "  print('yellow')\n"
      ],
      "execution_count": null,
      "outputs": [
        {
          "output_type": "stream",
          "text": [
            "red\n"
          ],
          "name": "stdout"
        }
      ]
    },
    {
      "cell_type": "markdown",
      "metadata": {
        "id": "nO0LSd8SVto5"
      },
      "source": [
        "\n",
        "\n",
        "### P2.PY\n",
        "\n",
        "\n"
      ]
    },
    {
      "cell_type": "code",
      "metadata": {
        "id": "Dp5jFc2fVtpF",
        "outputId": "dc224099-1017-4a66-d18d-14c3798fe6cc",
        "colab": {
          "base_uri": "https://localhost:8080/",
          "height": 34
        }
      },
      "source": [
        "\"\"\"\n",
        "Generate Phone Number w/Area Code\n",
        "\"\"\"\n",
        "\n",
        "# Generate a random phone number using these SPECS:\n",
        "### Should be a string in this format: 1-718-786-2825\n",
        "### Must randomly choose one of these area codes: 646, 718, 212\n",
        "\n",
        "import random\n",
        "from random import randint\n",
        "\n",
        "area_code = random.choice([718,646,212])\n",
        "phone_num1 = randint(100,999)   #these are for the second and third groups of numbers \n",
        "phone_num2 = randint(1000,9999) #not sure how to add zeros to beginning if low number so starting with 100 and 1000 for now \n",
        "\n",
        "print(f'1-{area_code}-{phone_num1}-{phone_num2}')   #not sure how to only grab from the three prescribed area codes without further functions from teh random package. figured out with randchoice"
      ],
      "execution_count": null,
      "outputs": [
        {
          "output_type": "stream",
          "text": [
            "1-646-250-5033\n"
          ],
          "name": "stdout"
        }
      ]
    },
    {
      "cell_type": "markdown",
      "metadata": {
        "id": "gRweE3nDVtpK"
      },
      "source": [
        "## RPS\n",
        "\n",
        "\n"
      ]
    },
    {
      "cell_type": "markdown",
      "metadata": {
        "id": "IFUwrDumV_Vn"
      },
      "source": [
        "### P1.PY"
      ]
    },
    {
      "cell_type": "code",
      "metadata": {
        "id": "sYTmAYzDVtpL",
        "outputId": "f1e53abf-25de-49bf-b044-19d5ce13f0e5",
        "colab": {
          "base_uri": "https://localhost:8080/",
          "height": 34
        }
      },
      "source": [
        "\"\"\"\n",
        "Play RPS\n",
        "\"\"\"\n",
        "\n",
        "p1 = 's'  # or 'p' or 's'\n",
        "p2 = 'x'  # or 'p' or 's'\n",
        "\n",
        "# Given a p1 and p2\n",
        "# print 1 if p1 has won\n",
        "# print 2 if p2 has won\n",
        "# print 0 if tie\n",
        "# print -1 if invalid input\n",
        "# expects both p1 and p2 inputs to be either\n",
        "# \"r\", \"p\", or \"s\"\n",
        "\n",
        "if p1 == 'r' and p2 =='r':    #just go one by one with each scenario\n",
        "  print('0')\n",
        "elif p1 == 'r' and p2 == 'p':\n",
        "  print('2')\n",
        "elif p1 == 'r' and p2 == 's':\n",
        "  print('1')\n",
        "elif p1 == 'p' and p2 == 'r':\n",
        "  print('1')\n",
        "elif p1 == 'p' and p2 == 'p':\n",
        "  print('0')\n",
        "elif p1 == 'p' and p2 == 's':\n",
        "  print('2')\n",
        "elif p1 == 's' and p2 == 'r':\n",
        "  print('2')\n",
        "elif p1 == 's' and p2 == 'p':\n",
        "  print('1')\n",
        "elif p1 == 's' and p2 == 's':\n",
        "  print('0')\n",
        "else:\n",
        "  print('-1')     #anything other than r p s , invalid\n"
      ],
      "execution_count": null,
      "outputs": [
        {
          "output_type": "stream",
          "text": [
            "-1\n"
          ],
          "name": "stdout"
        }
      ]
    },
    {
      "cell_type": "markdown",
      "metadata": {
        "id": "fp77AykMVtpN"
      },
      "source": [
        "\n",
        "\n",
        "### P2.PY\n",
        "\n",
        "\n"
      ]
    },
    {
      "cell_type": "code",
      "metadata": {
        "id": "mKMaxGH8VtpO",
        "outputId": "ab3d74b1-a0f1-4f51-e6c2-6d879fcc9698",
        "colab": {
          "base_uri": "https://localhost:8080/",
          "height": 34
        }
      },
      "source": [
        "\"\"\"\n",
        "Play RPS w/Computer\n",
        "\"\"\"\n",
        "\n",
        "import random\n",
        "\n",
        "p1 = random.choice(['r','p','s'])  # randomly choose 'r' or 'p' or 's'\n",
        "p2 = random.choice(['r','p','s']) # randomly choose 'r' or 'p' or 's'\n",
        "\n",
        "\n",
        "if p1 == 'r' and p2 =='r':    #just go one by one with each scenario.   after using random.choice i just pasted same sequencing/method as above \n",
        "  print('0')\n",
        "elif p1 == 'r' and p2 == 'p':\n",
        "  print('2')\n",
        "elif p1 == 'r' and p2 == 's':\n",
        "  print('1')\n",
        "elif p1 == 'p' and p2 == 'r':\n",
        "  print('1')\n",
        "elif p1 == 'p' and p2 == 'p':\n",
        "  print('0')\n",
        "elif p1 == 'p' and p2 == 's':\n",
        "  print('2')\n",
        "elif p1 == 's' and p2 == 'r':\n",
        "  print('2')\n",
        "elif p1 == 's' and p2 == 'p':\n",
        "  print('1')\n",
        "elif p1 == 's' and p2 == 's':\n",
        "  print('0')\n",
        "else:\n",
        "  print('-1')  \n",
        "\n"
      ],
      "execution_count": null,
      "outputs": [
        {
          "output_type": "stream",
          "text": [
            "0\n"
          ],
          "name": "stdout"
        }
      ]
    },
    {
      "cell_type": "markdown",
      "metadata": {
        "id": "INgOFvdoVtpU"
      },
      "source": [
        "\n",
        "\n",
        "### P3.PY\n",
        "\n",
        "\n"
      ]
    },
    {
      "cell_type": "code",
      "metadata": {
        "id": "vhAAHjMSVtpV",
        "outputId": "02b2c085-98b2-4a5c-afaa-9de7a5171bb1",
        "colab": {
          "base_uri": "https://localhost:8080/",
          "height": 102
        }
      },
      "source": [
        "\"\"\"\n",
        "Play RPS w/Input\n",
        "\"\"\"\n",
        "\n",
        "p1 = input(\"Lets play RPS!! Please enter r, p, or s! Good luck! Enter here: \")  # from user input\n",
        "print(f'Player 1 chose: {p1}')\n",
        "p2 = input(\"Lets play RPS!! Please enter r, p, or s! Good luck! Enter here: \")  # from user input\n",
        "print(f'Player 2 chose: {p2}')\n",
        "\n",
        "if p1 == 'r' and p2 =='r':    #just go one by one with each scenario.   after using random.choice i just pasted same sequencing/method as above \n",
        "  print('0')\n",
        "elif p1 == 'r' and p2 == 'p':\n",
        "  print('2')\n",
        "elif p1 == 'r' and p2 == 's':\n",
        "  print('1')\n",
        "elif p1 == 'p' and p2 == 'r':\n",
        "  print('1')\n",
        "elif p1 == 'p' and p2 == 'p':\n",
        "  print('0')\n",
        "elif p1 == 'p' and p2 == 's':\n",
        "  print('2')\n",
        "elif p1 == 's' and p2 == 'r':\n",
        "  print('2')\n",
        "elif p1 == 's' and p2 == 'p':\n",
        "  print('1')\n",
        "elif p1 == 's' and p2 == 's':\n",
        "  print('0')\n",
        "else:\n",
        "  print('-1')\n"
      ],
      "execution_count": null,
      "outputs": [
        {
          "output_type": "stream",
          "text": [
            "Lets play RPS!! Please enter r, p, or s! Good luck! Enter here: r\n",
            "Player 1 chose: r\n",
            "Lets play RPS!! Please enter r, p, or s! Good luck! Enter here: s\n",
            "Player 2 chose: s\n",
            "1\n"
          ],
          "name": "stdout"
        }
      ]
    },
    {
      "cell_type": "markdown",
      "metadata": {
        "id": "SUqNu57OVtpY"
      },
      "source": [
        "\n",
        "\n",
        "### P4.PY\n",
        "\n",
        "\n"
      ]
    },
    {
      "cell_type": "code",
      "metadata": {
        "id": "Vmlr5AqSVtpY",
        "outputId": "ff6978c7-8c30-4c7c-a858-f2b31098ec06",
        "colab": {
          "base_uri": "https://localhost:8080/",
          "height": 85
        }
      },
      "source": [
        "\"\"\"\n",
        "Play RPS against Computer\n",
        "\"\"\"\n",
        "\n",
        "\n",
        "p1 = input(\"Lets play RPS!! Please enter r, p, or s! Good luck! Enter here: \")  # from user input\n",
        "print(f'Player 1 chose: {p1}')\n",
        "p2 = random.choice(['r','p','s']) # randomly generated against computer\n",
        "print(f'Player 2 chose: {p2}')\n",
        "\n",
        "if p1 == 'r' and p2 =='r':    #just go one by one with each scenario.   after using random.choice i just pasted same sequencing/method as above \n",
        "  print('0')\n",
        "elif p1 == 'r' and p2 == 'p':\n",
        "  print('2')\n",
        "elif p1 == 'r' and p2 == 's':\n",
        "  print('1')\n",
        "elif p1 == 'p' and p2 == 'r':\n",
        "  print('1')\n",
        "elif p1 == 'p' and p2 == 'p':\n",
        "  print('0')\n",
        "elif p1 == 'p' and p2 == 's':\n",
        "  print('2')\n",
        "elif p1 == 's' and p2 == 'r':\n",
        "  print('2')\n",
        "elif p1 == 's' and p2 == 'p':\n",
        "  print('1')\n",
        "elif p1 == 's' and p2 == 's':\n",
        "  print('0')\n",
        "else:\n",
        "  print('-1')\n"
      ],
      "execution_count": null,
      "outputs": [
        {
          "output_type": "stream",
          "text": [
            "Lets play RPS!! Please enter r, p, or s! Good luck! Enter here: p\n",
            "Player 1 chose: p\n",
            "Player 2 chose: r\n",
            "1\n"
          ],
          "name": "stdout"
        }
      ]
    },
    {
      "cell_type": "markdown",
      "metadata": {
        "id": "F_7aaMtoVtpt"
      },
      "source": [
        "\n",
        "\n",
        "### P5.PY\n",
        "\n",
        "\n"
      ]
    },
    {
      "cell_type": "code",
      "metadata": {
        "id": "U24EGu3VVtpu",
        "outputId": "1cf8bfdd-c7d3-4988-e52c-aa9f2dea7773",
        "colab": {
          "base_uri": "https://localhost:8080/",
          "height": 102
        }
      },
      "source": [
        "\"\"\"\n",
        "Play RPS w/Bad Input\n",
        "\"\"\"\n",
        "\n",
        "p1 = None  # can be invalid!\n",
        "p2 = None  # can be invalid!\n",
        "\n",
        "\"\"\"\n",
        "This is the same as the original RPS problem, \n",
        "except that cannot expect the input to be valid. \n",
        "While we *want* `r` or `p` or `s`, there is a possibility \n",
        "that input can be anything like...\n",
        "\n",
        "* `ROCK` (all caps)   #can use isalpha() to make sure its letters. if not, error\n",
        "* `R` (`r` but capitalized)     # can check for any R. its rock. but NOT if r and s. coudl be scissors. or r and p.  could be paper.\n",
        "* `PAPrrRR` (incorrectly spelled, upper/lowercased)\n",
        "\n",
        "Implement conditional statements that will sanitize the \n",
        "user input or let user know that input is invalid.\n",
        "\"\"\"\n",
        "p1 = input(\"Lets play RPS!! Please enter r, p, or s! Good luck! Enter here: \")  # from user input\n",
        "p1 = p1.lower()\n",
        "\n",
        "if ('r' and 's' in p1):\n",
        "  p1 = 's'\n",
        "elif ('r' and 'p' in p1):\n",
        "  p1 = 'p'\n",
        "elif ('r' in p1):\n",
        "  p1 = 'r'\n",
        "else:\n",
        "  p1 = 'invalid entry'\n",
        "print(f'Player 1 chose: {p1}')\n",
        "\n",
        "p2 = input(\"Lets play RPS!! Please enter r, p, or s! Good luck! Enter here: \")  # from user input\n",
        "p2 = p2.lower()\n",
        "\n",
        "if ('r' and 's' in p2):\n",
        "  p2 = 's'\n",
        "elif ('r' and 'p' in p2):\n",
        "  p2 = 'p'\n",
        "elif ('r' in p2):\n",
        "  p2 = 'r'\n",
        "else:\n",
        "  p2 = 'invalid entry'\n",
        "print(f'Player 2 chose: {p2}')\n",
        "\n",
        "\n",
        "if p1 == 'r' and p2 =='r':    #just go one by one with each scenario.   after using random.choice i just pasted same sequencing/method as above \n",
        "  print('0')\n",
        "elif p1 == 'r' and p2 == 'p':\n",
        "  print('2')\n",
        "elif p1 == 'r' and p2 == 's':\n",
        "  print('1')\n",
        "elif p1 == 'p' and p2 == 'r':\n",
        "  print('1')\n",
        "elif p1 == 'p' and p2 == 'p':\n",
        "  print('0')\n",
        "elif p1 == 'p' and p2 == 's':\n",
        "  print('2')\n",
        "elif p1 == 's' and p2 == 'r':\n",
        "  print('2')\n",
        "elif p1 == 's' and p2 == 'p':\n",
        "  print('1')\n",
        "elif p1 == 's' and p2 == 's':\n",
        "  print('0')\n",
        "else:\n",
        "  print('invalid entry')\n",
        "\n",
        "        # didnt accoutn for ROCKS (HAS AN S). "
      ],
      "execution_count": null,
      "outputs": [
        {
          "output_type": "stream",
          "text": [
            "Lets play RPS!! Please enter r, p, or s! Good luck! Enter here: ROCK\n",
            "Player 1 chose: r\n",
            "Lets play RPS!! Please enter r, p, or s! Good luck! Enter here: PAPER\n",
            "Player 2 chose: p\n",
            "2\n"
          ],
          "name": "stdout"
        }
      ]
    },
    {
      "cell_type": "code",
      "metadata": {
        "id": "O0HpREO3PtDk"
      },
      "source": [
        ""
      ],
      "execution_count": null,
      "outputs": []
    }
  ]
}