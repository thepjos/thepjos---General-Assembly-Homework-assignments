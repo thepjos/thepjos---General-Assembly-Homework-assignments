{
  "nbformat": 4,
  "nbformat_minor": 0,
  "metadata": {
    "colab": {
      "name": "GeneralAssembly Python Homework-classes.ipynb",
      "provenance": [],
      "collapsed_sections": [
        "wN5WvJFIQav3",
        "y8I3eTeXQVSR",
        "4T8OMv5cQVSl",
        "L9e1xwP0QVSu"
      ],
      "include_colab_link": true
    },
    "kernelspec": {
      "name": "python3",
      "display_name": "Python 3"
    }
  },
  "cells": [
    {
      "cell_type": "markdown",
      "metadata": {
        "id": "view-in-github",
        "colab_type": "text"
      },
      "source": [
        "<a href=\"https://colab.research.google.com/github/thepjos/thepjos/blob/main/GeneralAssembly_Python_Homework_classes.ipynb\" target=\"_parent\"><img src=\"https://colab.research.google.com/assets/colab-badge.svg\" alt=\"Open In Colab\"/></a>"
      ]
    },
    {
      "cell_type": "markdown",
      "metadata": {
        "id": "RyPJy42MQVR4"
      },
      "source": [
        "#  CLASSES\n",
        "\n",
        "\n"
      ]
    },
    {
      "cell_type": "markdown",
      "metadata": {
        "id": "wN5WvJFIQav3"
      },
      "source": [
        "## BASICS"
      ]
    },
    {
      "cell_type": "markdown",
      "metadata": {
        "id": "-pkisP_FQcHU"
      },
      "source": [
        "### P1.PY (REQUIRED)"
      ]
    },
    {
      "cell_type": "code",
      "metadata": {
        "id": "IzneYCnaQVR5"
      },
      "source": [
        "\"\"\"\n",
        "Person class\n",
        "\"\"\"\n",
        "\n",
        "# Create a Person class with the following properties\n",
        "# 1. name\n",
        "# 2. age\n",
        "# 3. social security number\n",
        "\n",
        "class Person:\n",
        "  def __init__ (self, name, age, ssn):\n",
        "    self.name = name\n",
        "    self.age = age\n",
        "    self.ssn = ssn\n",
        "\n",
        "person_1 = Person('Timmy', 42, '306-09-7789')\n",
        "\n",
        "\n"
      ],
      "execution_count": null,
      "outputs": []
    },
    {
      "cell_type": "code",
      "metadata": {
        "id": "ZKLApoeFZSLE",
        "outputId": "a69ea3e9-3387-4a8e-bbdd-b8e2d5251f12",
        "colab": {
          "base_uri": "https://localhost:8080/",
          "height": 34
        }
      },
      "source": [
        "person_1.age"
      ],
      "execution_count": null,
      "outputs": [
        {
          "output_type": "execute_result",
          "data": {
            "text/plain": [
              "42"
            ]
          },
          "metadata": {
            "tags": []
          },
          "execution_count": 2
        }
      ]
    },
    {
      "cell_type": "markdown",
      "metadata": {
        "id": "ZrXt0IATQVR_"
      },
      "source": [
        "\n",
        "\n",
        "### P2.PY (REQUIRED)\n",
        "\n",
        "\n"
      ]
    },
    {
      "cell_type": "code",
      "metadata": {
        "id": "HmfkVGjjQVSA",
        "outputId": "6fef4412-e808-43af-85da-4e31b66dcadf",
        "colab": {
          "base_uri": "https://localhost:8080/",
          "height": 51
        }
      },
      "source": [
        "\"\"\"\n",
        "Cat class\n",
        "\"\"\"\n",
        "\n",
        "# Implement a class called \"Cat\" with the following properties:\n",
        "# name\n",
        "# breed\n",
        "# age\n",
        "\n",
        "# also, implement a method called \"speak\" that should print out \"purr\"\n",
        "\n",
        "class Cat:\n",
        "  def __init__(self, name, breed, age):\n",
        "    self.name = name\n",
        "    self.breed = breed\n",
        "    self.age = age\n",
        "\n",
        "  def speak(self):\n",
        "    print('purr')\n",
        "\n",
        "cat1 = Cat(\"Luna\", \"Siamese\", 10)\n",
        "\n",
        "  \n",
        "print(cat1.age)\n",
        "cat1.speak()"
      ],
      "execution_count": null,
      "outputs": [
        {
          "output_type": "stream",
          "text": [
            "10\n",
            "purr\n"
          ],
          "name": "stdout"
        }
      ]
    },
    {
      "cell_type": "markdown",
      "metadata": {
        "id": "qvxZaPxNQVSD"
      },
      "source": [
        "\n",
        "\n",
        "### P3.PY (OPTIONAL)\n",
        "\n",
        "\n"
      ]
    },
    {
      "cell_type": "code",
      "metadata": {
        "id": "m6PY5wQdQVSE",
        "outputId": "8b002c5f-cfac-424b-a5f1-7081738df733",
        "colab": {
          "base_uri": "https://localhost:8080/",
          "height": 221
        }
      },
      "source": [
        "\"\"\"\n",
        "Phone Contacts\n",
        "\"\"\" \n",
        "\n",
        "# Create a class called \"Contact\" that will store the below items for each contact in your phone. The starred items should be required. \n",
        "#Instantiate two Contact instance objects and access each of their attributes.\n",
        "    ### name*\n",
        "    ### mobile_num\n",
        "    ### work_num\n",
        "    ### email\n",
        "\n",
        "\n",
        "class Contact:\n",
        "  def __init__(self, name, mobile_num = None, work_num = None, email = None):\n",
        "    self.name = name\n",
        "    self.mobile_num = mobile_num\n",
        "    self.work_num = work_num\n",
        "    self.email = email\n",
        "    self.description = {\"name\" :  name,                         #used same concept we did in class to just bring all items together in a description\n",
        "                        \"mobile\" : mobile_num,\n",
        "                        \"work\" : work_num,\n",
        "                        \"email\" : email}\n",
        "  def contactSummary(self):                                   # had to do a function to call it all\n",
        "    print(f' Description for {self.name}')\n",
        "    print('--------------' * 3)\n",
        "    for key, value in self.description.items():\n",
        "      print(f'{key} : {value}')\n",
        "\n",
        "contact1 = Contact('Tim Jones', '7735520335', email = 'tj@gmail.com')\n",
        "contact2 = Contact('Joan Tims', work_num= '8004285377', email = 'jt@aol.com')\n",
        "\n",
        "contact1.contactSummary()\n",
        "contact2.contactSummary()"
      ],
      "execution_count": null,
      "outputs": [
        {
          "output_type": "stream",
          "text": [
            " Description for Tim Jones\n",
            "------------------------------------------\n",
            "name : Tim Jones\n",
            "mobile : 7735520335\n",
            "work : None\n",
            "email : tj@gmail.com\n",
            " Description for Joan Tims\n",
            "------------------------------------------\n",
            "name : Joan Tims\n",
            "mobile : None\n",
            "work : 8004285377\n",
            "email : jt@aol.com\n"
          ],
          "name": "stdout"
        }
      ]
    },
    {
      "cell_type": "markdown",
      "metadata": {
        "id": "PRUu-pYrQVSG"
      },
      "source": [
        "\n",
        "\n",
        "### P4.PY (OPTIONAL)\n",
        "\n",
        "\n"
      ]
    },
    {
      "cell_type": "code",
      "metadata": {
        "id": "UY7JmxmNQVSH",
        "outputId": "cd5e0cf2-7665-4a4c-a203-fe07ca0fdf82",
        "colab": {
          "base_uri": "https://localhost:8080/",
          "height": 85
        }
      },
      "source": [
        "\"\"\"\n",
        "Rectangle\n",
        "\"\"\"\n",
        "\n",
        "# Write a Python class named \"Rectangle\" constructed by values for length and width. \n",
        "#It should include two methods to calculate the \"area\" and the \"perimeter\" of a rectangle.\n",
        "#Instantiate a Rectangle and call both methods.\n",
        "\n",
        "class Rectangle:\n",
        "  def __init__(self, length, width):\n",
        "    self.length = length\n",
        "    self.width = width\n",
        "  \n",
        "  def area(self):\n",
        "    return self.length * self.width\n",
        "\n",
        "  def perimeter(self):\n",
        "    return (self.length *2) + (self.width *2)\n",
        "\n",
        "rect1 = Rectangle(10,20)\n",
        "rect2 = Rectangle(4,5)\n",
        "\n",
        "print(rect1.area())\n",
        "print(rect1.perimeter())\n",
        "print(rect2.area())\n",
        "print(rect2.perimeter())"
      ],
      "execution_count": null,
      "outputs": [
        {
          "output_type": "stream",
          "text": [
            "200\n",
            "60\n",
            "20\n",
            "18\n"
          ],
          "name": "stdout"
        }
      ]
    },
    {
      "cell_type": "markdown",
      "metadata": {
        "id": "z3HWRp76QVSK"
      },
      "source": [
        "\n",
        "\n",
        "### P5.PY (OPTIONAL)\n",
        "\n",
        "\n"
      ]
    },
    {
      "cell_type": "code",
      "metadata": {
        "id": "CAahOYImQVSL",
        "outputId": "b5429326-19ba-44e3-948b-ca8774dbf1bb",
        "colab": {
          "base_uri": "https://localhost:8080/",
          "height": 51
        }
      },
      "source": [
        "\"\"\"\n",
        "Circle\n",
        "\"\"\"\n",
        "\n",
        "# Write a Python class named \"Circle\" constructed by a radius value and a class attribute for pi. \n",
        "#You can use 3.14159 for the value of pi for simplicity. It should include two methods to calculate the \"area\" and the \"perimeter\" of a circle. \n",
        "#Instantiate a Circle and call both methods.\n",
        "\n",
        "\n",
        "class Circle:\n",
        "  def __init__(self, radius, pi):       #maybe should say pi = 3.141459? we'll see\n",
        "    self.radius = radius                # found on google that i could put pi = 3.14  right after class. then it stays constant for whole class and methods\n",
        "    self.pi = pi\n",
        "\n",
        "  def area(self):\n",
        "    return self.pi * (self.radius ** 2)\n",
        "  def perimeter(self):\n",
        "    return 2 * self.pi * self.radius\n",
        "\n",
        "circ1 = Circle(5, 3.141459)\n",
        "\n",
        "print(circ1.area())\n",
        "print(circ1.perimeter())"
      ],
      "execution_count": null,
      "outputs": [
        {
          "output_type": "stream",
          "text": [
            "78.536475\n",
            "31.414589999999997\n"
          ],
          "name": "stdout"
        }
      ]
    },
    {
      "cell_type": "markdown",
      "metadata": {
        "id": "UhQbvm0yQVSN"
      },
      "source": [
        "\n",
        "\n",
        "### P6.PY (OPTIONAL)\n",
        "\n",
        "\n"
      ]
    },
    {
      "cell_type": "code",
      "metadata": {
        "id": "L3ALeW8dQVSO",
        "outputId": "99ef38b6-890e-4300-9b0e-3026bd357728",
        "colab": {
          "base_uri": "https://localhost:8080/",
          "height": 197
        }
      },
      "source": [
        "\"\"\"\n",
        "RGB to HEX\n",
        "\"\"\"\n",
        "\n",
        "# Remember our function \"rgb_hex\" from the functions pset? That function took a color in rgb format and returned it in hex format as well as vice versa. \n",
        "# Wouldn't it be so much easier to do that with a class called Color?\n",
        "\n",
        "# Define a class called \"Color\" to store each color's rgb and hex values. \n",
        "# Define a method called \"convert_codes()\" to retrieve one value given the other. Create at least one instance of Color and try the convert_codes() method.\n",
        "\n",
        "class Color:\n",
        "  def __init__ (self, rgb = None, hex = None):\n",
        "    self.rgb = rgb\n",
        "    self.hex = hex\n",
        "    self.colordict = {rgb : hex}\n",
        "  def convert_codes(self):\n",
        "    for k, v in self.colordict.items():\n",
        "      if self.rgb == k:\n",
        "        return v\n",
        "      elif self.hex == v:\n",
        "        return k\n",
        "      else:\n",
        "        print('not in list')\n",
        "\n",
        "color1 = Color('rgb001100')\n",
        "\n",
        "print(color1.convert_codes('ff##000'))                              # return and try this later\n"
      ],
      "execution_count": null,
      "outputs": [
        {
          "output_type": "error",
          "ename": "TypeError",
          "evalue": "ignored",
          "traceback": [
            "\u001b[0;31m---------------------------------------------------------------------------\u001b[0m",
            "\u001b[0;31mTypeError\u001b[0m                                 Traceback (most recent call last)",
            "\u001b[0;32m<ipython-input-7-29422c109bfc>\u001b[0m in \u001b[0;36m<module>\u001b[0;34m()\u001b[0m\n\u001b[1;32m     25\u001b[0m \u001b[0mcolor1\u001b[0m \u001b[0;34m=\u001b[0m \u001b[0mColor\u001b[0m\u001b[0;34m(\u001b[0m\u001b[0;34m'rgb001100'\u001b[0m\u001b[0;34m)\u001b[0m\u001b[0;34m\u001b[0m\u001b[0;34m\u001b[0m\u001b[0m\n\u001b[1;32m     26\u001b[0m \u001b[0;34m\u001b[0m\u001b[0m\n\u001b[0;32m---> 27\u001b[0;31m \u001b[0mprint\u001b[0m\u001b[0;34m(\u001b[0m\u001b[0mcolor1\u001b[0m\u001b[0;34m.\u001b[0m\u001b[0mconvert_codes\u001b[0m\u001b[0;34m(\u001b[0m\u001b[0;34m'ff##000'\u001b[0m\u001b[0;34m)\u001b[0m\u001b[0;34m)\u001b[0m                              \u001b[0;31m# return and try this later\u001b[0m\u001b[0;34m\u001b[0m\u001b[0;34m\u001b[0m\u001b[0m\n\u001b[0m",
            "\u001b[0;31mTypeError\u001b[0m: convert_codes() takes 1 positional argument but 2 were given"
          ]
        }
      ]
    },
    {
      "cell_type": "markdown",
      "metadata": {
        "id": "y8I3eTeXQVSR"
      },
      "source": [
        "## VEHICLES\n",
        "\n",
        "\n"
      ]
    },
    {
      "cell_type": "markdown",
      "metadata": {
        "id": "aALzjPkdQhSP"
      },
      "source": [
        "### P1.PY (REQUIRED)"
      ]
    },
    {
      "cell_type": "code",
      "metadata": {
        "id": "ghZcPSz0QVSS",
        "outputId": "be2b852e-ee2a-4e56-e3d5-21e1d729882a",
        "colab": {
          "base_uri": "https://localhost:8080/",
          "height": 69
        }
      },
      "source": [
        "\"\"\"\n",
        "Vehicles I \n",
        "\"\"\"\n",
        "\n",
        "# Create a \"Vehicle\" class with instance attributes for \"name\" and \"owner\". \n",
        "# Add a method called \"start_engine()\" that prints \"Vroom!\". \n",
        "# Instantiate a Vehicle called \"submarine\" and then access all its attributes and methods for practice.\n",
        "\n",
        "\n",
        "class Vehicle:\n",
        "  def __init__(self, name, owner):\n",
        "    self.name = name\n",
        "    self.owner = owner\n",
        "\n",
        "  def start_engine(self):\n",
        "    return (f'Vroom')\n",
        "\n",
        "submarine = Vehicle('Subby', 'Ocean')\n",
        "\n",
        "print(submarine.name)\n",
        "print(submarine.owner)\n",
        "submarine.start_engine()"
      ],
      "execution_count": null,
      "outputs": [
        {
          "output_type": "stream",
          "text": [
            "Subby\n",
            "Ocean\n"
          ],
          "name": "stdout"
        },
        {
          "output_type": "execute_result",
          "data": {
            "application/vnd.google.colaboratory.intrinsic+json": {
              "type": "string"
            },
            "text/plain": [
              "'Vroom'"
            ]
          },
          "metadata": {
            "tags": []
          },
          "execution_count": 8
        }
      ]
    },
    {
      "cell_type": "markdown",
      "metadata": {
        "id": "CxsKrKDYQVSV"
      },
      "source": [
        "\n",
        "\n",
        "### P2.PY (REQUIRED)\n",
        "\n",
        "\n"
      ]
    },
    {
      "cell_type": "code",
      "metadata": {
        "id": "vxseoNdVQVSW",
        "outputId": "44bb0289-a31a-478b-aed7-8dc1aea27723",
        "colab": {
          "base_uri": "https://localhost:8080/",
          "height": 86
        }
      },
      "source": [
        "\"\"\"\n",
        "Vehicles II\n",
        "\"\"\"\n",
        "\n",
        "# Create 3 unique child classes for Vehicle - Car, Plane, and Boat. \n",
        "# Each of these should have its own class attributes for \"motion\" and \"terrain\". (For Car, these would be something like \"drive\" and \"land\".)\n",
        "\n",
        "class Car(Vehicle):\n",
        "  def __init__(self, name, owner, motion, terrain):\n",
        "    super(). __init__(name, owner)\n",
        "    self.motion = motion\n",
        "    self.terrain = terrain\n",
        "  def honk_horn(self):\n",
        "    return (f'Honk!')\n",
        "\n",
        "class Plane(Vehicle):\n",
        "  def __init__(self, name, owner, motion, terrain):              ## maybe could have just subclassed plain the same as car? \n",
        "    super(). __init__(name, owner)\n",
        "    self.motion = motion\n",
        "    self.terrain = terrain\n",
        "  def take_off(self):\n",
        "    return (f'Fasten your seatbelts!')\n",
        "\n",
        "class Boat(Vehicle):\n",
        "  def __init__(self, name, owner, motion, terrain):\n",
        "    super(). __init__(name, owner)\n",
        "    self.motion = motion\n",
        "    self.terrain = terrain\n",
        "  def drop_anchor(self):\n",
        "    return (f'Anchors away!')   \n",
        "\n",
        "\n",
        "car1 = Car('Tesla', 'Elon', 'Drive','Land')\n",
        "plane1 = Plane('Boeing', 'Sully', 'Fly', 'Air')\n",
        "boat1 = Boat('USSX', 'Capn', 'Steer', 'Water')\n",
        "\n",
        "print(car1.motion)\n",
        "print(plane1.name)\n",
        "print(boat1.terrain)\n",
        "boat1.drop_anchor()"
      ],
      "execution_count": null,
      "outputs": [
        {
          "output_type": "stream",
          "text": [
            "Drive\n",
            "Boeing\n",
            "Water\n"
          ],
          "name": "stdout"
        },
        {
          "output_type": "execute_result",
          "data": {
            "application/vnd.google.colaboratory.intrinsic+json": {
              "type": "string"
            },
            "text/plain": [
              "'Anchors away!'"
            ]
          },
          "metadata": {
            "tags": []
          },
          "execution_count": 9
        }
      ]
    },
    {
      "cell_type": "markdown",
      "metadata": {
        "id": "sYiJRi07QVSY"
      },
      "source": [
        "\n",
        "\n",
        "### P3.PY (REQUIRED)\n",
        "\n",
        "\n"
      ]
    },
    {
      "cell_type": "code",
      "metadata": {
        "id": "VdMZiobfQVSZ",
        "outputId": "e7ee02d2-e737-4b00-f8af-00b8e245b0fb",
        "colab": {
          "base_uri": "https://localhost:8080/",
          "height": 35
        }
      },
      "source": [
        "\"\"\"\n",
        "Vehicles III\n",
        "\"\"\"\n",
        "\n",
        "# For Car, define a method called \"honk_horn()\" that prints \"HONK!\"\n",
        "# For Plane, define a method called \"take_off()\" that prints \"Fasten your seatbelts!\"\n",
        "# For Boat, define a method called \"drop_achor()\" that prints \"Anchors away!\"\n",
        "\n",
        " # def honk_horn(self):\n",
        " #   print('Honk!')\n",
        " # def take_off(self):\n",
        " #   print('Fasten your seatbelts!')\n",
        " # def drop_anchor(self):\n",
        " #   print('Anchors away!')                          # i made these notes here and put them above under the correct classes\n",
        "\n"
      ],
      "execution_count": null,
      "outputs": [
        {
          "output_type": "execute_result",
          "data": {
            "application/vnd.google.colaboratory.intrinsic+json": {
              "type": "string"
            },
            "text/plain": [
              "'\\nVehicles III\\n'"
            ]
          },
          "metadata": {
            "tags": []
          },
          "execution_count": 10
        }
      ]
    },
    {
      "cell_type": "markdown",
      "metadata": {
        "id": "vQBQiZeaQVSb"
      },
      "source": [
        "\n",
        "\n",
        "### P4.PY (OPTIONAL)\n",
        "\n",
        "\n"
      ]
    },
    {
      "cell_type": "code",
      "metadata": {
        "id": "LBmdMSW8QVSb",
        "outputId": "1d0c6309-de81-400f-b915-71e6ff93ceea",
        "colab": {
          "base_uri": "https://localhost:8080/",
          "height": 323
        }
      },
      "source": [
        "\"\"\"\n",
        "Vehicles IV\n",
        "\"\"\"\n",
        "\n",
        "# Create an instance of each child class. Access all their attributes and methods, including those inherited from their parent class Vehicle.\n",
        "\n",
        "# TAKEAWAY! - Vehicle is the baseline class for other more specific types of vehicles. \n",
        "#Typically, you wouldn't instantiate a Vehicle because the child classes are more useful for storing information about vehicles. \n",
        "#The Vehicle class serves to create a relationship between its children. However, \"submarine\" might be created as a Vehicle because it's so rare that you might not need a full Submarine class!\n",
        "\n",
        "car1 = Car('Tesla', 'Elon', 'Drive','Land')\n",
        "plane1 = Plane('Boeing', 'Sully', 'Fly', 'Air')\n",
        "boat1 = Boat('USSX', 'Capn', 'Steer', 'Water')\n",
        "\n",
        "print(car1.name)\n",
        "print(car1.owner)\n",
        "print(car1.motion)\n",
        "print(car1.terrain)\n",
        "print(car1.honk_horn())\n",
        "print(car1.start_engine())\n",
        "\n",
        "print(plane1.name)\n",
        "print(plane1.owner)\n",
        "print(plane1.motion)\n",
        "print(plane1.terrain)\n",
        "print(plane1.take_off())\n",
        "print(plane1.start_engine())\n",
        "\n",
        "print(boat1.name)\n",
        "print(boat1.owner)\n",
        "print(boat1.motion)\n",
        "print(boat1.terrain)\n",
        "print(boat1.drop_anchor())\n",
        "print(boat1.start_engine())"
      ],
      "execution_count": null,
      "outputs": [
        {
          "output_type": "stream",
          "text": [
            "Tesla\n",
            "Elon\n",
            "Drive\n",
            "Land\n",
            "Honk!\n",
            "Vroom\n",
            "Boeing\n",
            "Sully\n",
            "Fly\n",
            "Air\n",
            "Fasten your seatbelts!\n",
            "Vroom\n",
            "USSX\n",
            "Capn\n",
            "Steer\n",
            "Water\n",
            "Anchors away!\n",
            "Vroom\n"
          ],
          "name": "stdout"
        }
      ]
    },
    {
      "cell_type": "markdown",
      "metadata": {
        "id": "n5WuMcd2QVSf"
      },
      "source": [
        "\n",
        "\n",
        "### P5.PY (OPTIONAL)\n",
        "\n",
        "\n"
      ]
    },
    {
      "cell_type": "code",
      "metadata": {
        "id": "oLi5DYoRQVSg",
        "outputId": "8ad35d69-746a-4935-9036-0e4afa00d588",
        "colab": {
          "base_uri": "https://localhost:8080/",
          "height": 35
        }
      },
      "source": [
        "\"\"\"\n",
        "Vehicles V\n",
        "\"\"\"\n",
        "\n",
        "# Let's expand the Car class to be more comprehensive. Include attributes for...\n",
        "## brand name\n",
        "## plates\n",
        "## owner\n",
        "## fuel (e.g. gasoline, battery, etc.)\n",
        "## fuel_level (a numerical amount that defaults to 50, and max speed in MPH that defaults to None. "
      ],
      "execution_count": null,
      "outputs": [
        {
          "output_type": "execute_result",
          "data": {
            "application/vnd.google.colaboratory.intrinsic+json": {
              "type": "string"
            },
            "text/plain": [
              "'\\nVehicles V\\n'"
            ]
          },
          "metadata": {
            "tags": []
          },
          "execution_count": 12
        }
      ]
    },
    {
      "cell_type": "markdown",
      "metadata": {
        "id": "A6fExHtLQVSi"
      },
      "source": [
        "\n",
        "\n",
        "### P6.PY (OPTIONAL)\n",
        "\n",
        "\n"
      ]
    },
    {
      "cell_type": "code",
      "metadata": {
        "id": "MpL9MvJJQVSj",
        "outputId": "c86e0344-b83c-41cc-e42d-dc922b65ab45",
        "colab": {
          "base_uri": "https://localhost:8080/",
          "height": 35
        }
      },
      "source": [
        "\"\"\"\n",
        "Vehicles VI\n",
        "\"\"\"\n",
        "\n",
        "# Next, define new method called \"check_fuel_level()\" for your newly expanded Car class. If the fuel_level attribute is < 15, the method should reset fuel_level to 50 and print out how many units it refueled the car, e.g. 'Refueled 38 units.' Otherwise, it should simply print 'No need to refuel right now.'\n",
        "\n",
        "# Create at least TWO instances of Car, one of which has a fuel level below 15. Access the new attributes and call the check_fuel_level() method for each instance.\n"
      ],
      "execution_count": null,
      "outputs": [
        {
          "output_type": "execute_result",
          "data": {
            "application/vnd.google.colaboratory.intrinsic+json": {
              "type": "string"
            },
            "text/plain": [
              "'\\nVehicles VI\\n'"
            ]
          },
          "metadata": {
            "tags": []
          },
          "execution_count": 13
        }
      ]
    },
    {
      "cell_type": "markdown",
      "metadata": {
        "id": "4T8OMv5cQVSl"
      },
      "source": [
        "## WEDDING_GUESTS\n",
        "\n",
        "\n"
      ]
    },
    {
      "cell_type": "markdown",
      "metadata": {
        "id": "ZkHoC8FJQksO"
      },
      "source": [
        "### P1.PY (REQUIRED)"
      ]
    },
    {
      "cell_type": "code",
      "metadata": {
        "id": "QEaByQNqQVSm",
        "outputId": "a7ab44e3-40d4-4c3d-929c-50f8293aa8d9",
        "colab": {
          "base_uri": "https://localhost:8080/",
          "height": 357
        }
      },
      "source": [
        "\"\"\"\n",
        "Weddings I - Guest List\n",
        "\"\"\"\n",
        "# Imagine for this problem set that you are planning a wedding. \n",
        "\n",
        "# A) Define a class called \"Guest\" to help you manage all the information about each invitee. \n",
        "# This should initially include instance attributes for the guests's name, phone, and an optional \"invite_sent\" \n",
        "# that defaults to False. Guest should also include an instance method called \"send_invite()\", which changes the value of invite_sent to True once you send an invitation to that guest.\n",
        "\n",
        "# B) Next, define a child class called \"Bridesmaid\", which includes the same initial attributes and inherits Guest's instance method.\n",
        "\n",
        "# C) Finally, create at least one instance of each class and do the following:\n",
        "### Call send_invite() on each instance.\n",
        "### Check whether Bridesmaid is a child of Guest and vice versa.\n",
        "\n",
        "class Guest:\n",
        "  \n",
        "  def __init__(self, name, phone, invite_sent = None):\n",
        "    self.name = name\n",
        "    self.phone = phone\n",
        "    self.invite_sent = invite_sent\n",
        "    self.description = {'Name' : name,\n",
        "                        'Phone' : phone,\n",
        "                        'Invite Sent?' : invite_sent}\n",
        "  def send_invite(self):\n",
        "    if self.invite_sent == None:\n",
        "      self.invite_sent == \"True\"\n",
        "    else:\n",
        "      pass\n",
        "      \n",
        "\n",
        "  def invite_summary(self):\n",
        "    print(f'Description for {self.name}')\n",
        "    print('-----------' * 4)\n",
        "    for key, value in self.description.items():\n",
        "      print(f'{key}: {value}')\n",
        "\n",
        "  def guest_rsvp(self):\n",
        "    rsvp_list =[]\n",
        "    diet = input('Any diet resctrictions? ')\n",
        "    plus1 = input('Are you bringing a guest? ')\n",
        "    if plus1 == 'Yes':\n",
        "      plus1_guest = input('Please enter name of your guest and any dietary restrictions: ')\n",
        "     \n",
        "    else:\n",
        "      pass\n",
        "    \n",
        "    rsvp_list.append(f'Cant eat : {diet}')\n",
        "    rsvp_list.append(f'Bringing someone? {plus1}')\n",
        "    rsvp_list.append(plus1_guest)\n",
        "    return (f'Info for {self.name} : {rsvp_list}')\n",
        "    \n",
        "class Bridesmaid(Guest):\n",
        "  def __init__(self, name, phone, invite_sent = False):\n",
        "    super().__init__(name, phone, invite_sent = False)\n",
        "\n",
        "guest1 = Guest('Jane', '7735520335')\n",
        "bridesmaid1 = Bridesmaid('Mandy', '8475329999')\n",
        "  \n",
        "print(guest1.name)\n",
        "print(bridesmaid1.phone)\n",
        "print('-----------' * 4)\n",
        "print(guest1.send_invite())                 # does this add it to the instance? do i need to? not sure.  not really keeping it anywhere here. does not. fix\n",
        "print(bridesmaid1.send_invite())            # added an F string to the method that then returns the full profile with false changing to true\n",
        "print('-----------' * 4)\n",
        "print(issubclass(Bridesmaid,Guest))\n",
        "print(issubclass(Guest,Bridesmaid))\n",
        "print('-----------' * 4)\n",
        "print(guest1.guest_rsvp())\n",
        "print('-----------' * 4)\n",
        "print(guest1.invite_summary())"
      ],
      "execution_count": null,
      "outputs": [
        {
          "output_type": "stream",
          "text": [
            "Jane\n",
            "8475329999\n",
            "--------------------------------------------\n",
            "None\n",
            "None\n",
            "--------------------------------------------\n",
            "True\n",
            "False\n",
            "--------------------------------------------\n",
            "Any diet resctrictions? peanuts\n",
            "Are you bringing a guest? Yes\n",
            "Please enter name of your guest and any dietary restrictions: joe and peanuts\n",
            "Info for Jane : ['Cant eat : peanuts', 'Bringing someone? Yes', 'joe and peanuts']\n",
            "--------------------------------------------\n",
            "Description for Jane\n",
            "--------------------------------------------\n",
            "Name: Jane\n",
            "Phone: 7735520335\n",
            "Invite Sent?: None\n",
            "None\n"
          ],
          "name": "stdout"
        }
      ]
    },
    {
      "cell_type": "markdown",
      "metadata": {
        "id": "UBc-ylx5QVSo"
      },
      "source": [
        "\n",
        "\n",
        "### P2.PY (REQUIRED)\n",
        "\n",
        "\n"
      ]
    },
    {
      "cell_type": "code",
      "metadata": {
        "id": "de41Yy_RQVSo",
        "outputId": "d9381153-66ab-49a1-8409-9e7849e4f8aa",
        "colab": {
          "base_uri": "https://localhost:8080/",
          "height": 197
        }
      },
      "source": [
        "\"\"\"\n",
        "Weddings II - Record Bridesmaid RSVPs\n",
        "\"\"\"\n",
        "\n",
        "# Create a method in Guest to record a guests's rsvp to your invitation. \n",
        "#It should record whether they have any dietary restrictions (e.g. vegetarian, kosher, halal, etc.) and whether they're bringing a plus one. \n",
        "#If they are bringing a plus one, it should record the name of the plus one and his/her dietary restrictions if any. These values should be stored in instance attributes.\n",
        "\n",
        "# Try out this method on at least one instance of Guest and at least one instance of Bridesmaid.\n",
        "\n",
        "def guest_rsvp(self):                                           # this worked, above, but put in list. now need to get it into the instance attributes\n",
        "  rsvp_list =[]\n",
        "  diet = input('Any diet resctrictions? ')\n",
        "  plus1 = input('Are you bringing a guest? ')\n",
        "  rsvp_list.append(self.name)\n",
        "  rsvp_list.append(diet)\n",
        "  rsvp_list.append(plus1)\n",
        "  return rsvp_list\n",
        "\n",
        "print(guest1.guest_rsvp())"
      ],
      "execution_count": null,
      "outputs": [
        {
          "output_type": "error",
          "ename": "AttributeError",
          "evalue": "ignored",
          "traceback": [
            "\u001b[0;31m---------------------------------------------------------------------------\u001b[0m",
            "\u001b[0;31mAttributeError\u001b[0m                            Traceback (most recent call last)",
            "\u001b[0;32m<ipython-input-78-09f6b7b53136>\u001b[0m in \u001b[0;36m<module>\u001b[0;34m()\u001b[0m\n\u001b[1;32m     18\u001b[0m   \u001b[0;32mreturn\u001b[0m \u001b[0mrsvp_list\u001b[0m\u001b[0;34m\u001b[0m\u001b[0;34m\u001b[0m\u001b[0m\n\u001b[1;32m     19\u001b[0m \u001b[0;34m\u001b[0m\u001b[0m\n\u001b[0;32m---> 20\u001b[0;31m \u001b[0mprint\u001b[0m\u001b[0;34m(\u001b[0m\u001b[0mguest1\u001b[0m\u001b[0;34m.\u001b[0m\u001b[0mguest_rsvp\u001b[0m\u001b[0;34m(\u001b[0m\u001b[0;34m)\u001b[0m\u001b[0;34m)\u001b[0m\u001b[0;34m\u001b[0m\u001b[0;34m\u001b[0m\u001b[0m\n\u001b[0m",
            "\u001b[0;31mAttributeError\u001b[0m: 'Guest' object has no attribute 'guest_rsvp'"
          ]
        }
      ]
    },
    {
      "cell_type": "markdown",
      "metadata": {
        "id": "ae81Cvg3QVSr"
      },
      "source": [
        "\n",
        "\n",
        "### P3.PY (OPTIONAL)\n",
        "\n",
        "\n"
      ]
    },
    {
      "cell_type": "code",
      "metadata": {
        "id": "uL2m2WDNQVSs"
      },
      "source": [
        "\"\"\"\n",
        "Weddings III - Record Shower & Bachelorette RSVP\n",
        "\"\"\"\n",
        "\n",
        "# Create two methods in Bridesmaid to record a the bridesmaid's rsvp to the bridal shower and the bachelorette party.\n",
        "#You can call them \"record_shower_rsvp()\" and \"record_bachelorette_rsvp()\". They will work just like the general \"record_rsvp()\" except there will be no plus ones or diet questions.\n",
        "# Their rsvp answers should be stored in instance attributes with the same name (i.e. shower_rsvp & bachelorette_rsvp)."
      ],
      "execution_count": null,
      "outputs": []
    },
    {
      "cell_type": "markdown",
      "metadata": {
        "id": "L9e1xwP0QVSu"
      },
      "source": [
        "\n",
        "\n",
        "## DOGS\n",
        "\n",
        "\n"
      ]
    },
    {
      "cell_type": "markdown",
      "metadata": {
        "id": "fqAxs72cQnUC"
      },
      "source": [
        "### P1.PY (REQUIRED)"
      ]
    },
    {
      "cell_type": "code",
      "metadata": {
        "id": "lCOGctWEQVSw",
        "outputId": "dcdcb1e9-10cb-4b41-dd07-fca5500fc219",
        "colab": {
          "base_uri": "https://localhost:8080/",
          "height": 68
        }
      },
      "source": [
        "\"\"\"\n",
        "Dogs I\n",
        "\"\"\"\n",
        "\n",
        "# Create a class called \"Dog\". It should include: \n",
        "## A class attribute \"domesticated\" w. value True\n",
        "## An instance method called \"bark()\" that prints \"Woof!\"\n",
        "\n",
        "class Dog:\n",
        "  \n",
        "    def __init__(self, name, color, domesticated = True):\n",
        "      self.name = name\n",
        "      self.color = color\n",
        "      self.domesticated = domesticated\n",
        "\n",
        "    def bark(self):\n",
        "      return (f'Woof!')\n",
        "\n",
        "dog_1 = Dog('Rover', 'Brown', domesticated = True)\n",
        "dog_2 = Dog('Chip', 'Blonde', domesticated = True)\n",
        "\n",
        "print(dog_1.bark())\n",
        "print(dog_1.name)\n",
        "print(dog_2.color)"
      ],
      "execution_count": null,
      "outputs": [
        {
          "output_type": "stream",
          "text": [
            "Woof!\n",
            "Rover\n",
            "Blonde\n"
          ],
          "name": "stdout"
        }
      ]
    },
    {
      "cell_type": "markdown",
      "metadata": {
        "id": "UO54DHkgQVS2"
      },
      "source": [
        "\n",
        "\n",
        "### P2.PY (REQUIRED)\n",
        "\n",
        "\n"
      ]
    },
    {
      "cell_type": "code",
      "metadata": {
        "id": "njrtxJF-QVS5"
      },
      "source": [
        "\"\"\"\n",
        "Dogs II\n",
        "\"\"\" \n",
        "\n",
        "# Create child class for 3 dog breeds - Collie, Siberian Husky, and Pekingese. Each should have:\n",
        "## 2 class attributes for \"breed\" and \"temperament\". The latter should be a list.\n",
        "## 3 instance attributes for \"name\", \"age\", and \"gender\".\n",
        "\n",
        "class Collie(Dog):\n",
        "  def __init__(self, name, color, breed, temperament, age, gender, domesticated = True ):\n",
        "    super().__init__(name, color, domesticated = True)\n",
        "    self.breed = breed\n",
        "    self.age = age\n",
        "    self.gender = gender\n",
        "    if temperament == None:\n",
        "      self.temperament = []\n",
        "    else:\n",
        "      self.temperament = temperament\n",
        "  def herd_the_kids(self):                        \n",
        "    return (f'Here are your children!')\n",
        "    \n",
        "class Siberian_Husky(Dog):\n",
        "  def __init__(self, name, color, breed, temperament, age, gender, domesticated = True ):\n",
        "    super().__init__(name, color, domesticated = True)\n",
        "    self.breed = breed\n",
        "    self.age = age\n",
        "    self.gender = gender\n",
        "    if temperament == None:\n",
        "      self.temperament = []\n",
        "    else:\n",
        "      self.temperament = temperament\n",
        "\n",
        "class Pekingese(Dog):\n",
        "  def __init__(self, name, color, breed, temperament, age, gender, domesticated = True ):\n",
        "    super().__init__(name, color, domesticated = True)\n",
        "    self.breed = breed\n",
        "    self.age = age\n",
        "    self.gender = gender\n",
        "    if temperament == None:\n",
        "      self.temperament = []\n",
        "    else:\n",
        "      self.temperament = temperament\n",
        "  def bark(self):                            \n",
        "    return (f'Yap!')\n",
        "    \n",
        "\n",
        "\n"
      ],
      "execution_count": null,
      "outputs": []
    },
    {
      "cell_type": "markdown",
      "metadata": {
        "id": "GRDjTLXgQVS7"
      },
      "source": [
        "\n",
        "\n",
        "### P3.PY (REQUIRED)\n",
        "\n",
        "\n"
      ]
    },
    {
      "cell_type": "code",
      "metadata": {
        "id": "w5X6VYA9QVS_",
        "outputId": "d52e2bd4-b1ed-4d93-f1f5-20cabd8281de",
        "colab": {
          "base_uri": "https://localhost:8080/",
          "height": 119
        }
      },
      "source": [
        "\"\"\"\n",
        "Dogs III\n",
        "\"\"\" \n",
        "\n",
        "# A) Add an instance method to Collie called \"herd_the_kids()\" that prints \"Here are your children!\"\n",
        "\n",
        "# B) Add an instance method called \"bark()\" to Pekingese. This should override the parent method \"bark()\" such that when you call bark() on an instance of Pekingese, it prints \"Yap!\" instead.\n",
        "\n",
        "# C) Instantiate one of each breed. Access the attributes, methods, and parent methods of each one. BONUS: Aside from herd_the_kids(), you should be able to do this in a loop.\n",
        "\n",
        "#def herd_the_kids(self):                        #added above\n",
        " # return (f'Here are your children!')\n",
        "\n",
        "#def bark(self):                             #added above\n",
        " # return (f'Yap!')\n",
        "\n",
        "dog_3 = Collie('Payton', 'Black', 'Collie','Calm','10', 'Male', domesticated = True)\n",
        "dog_4 = Collie('Snuggles', 'Blonde', 'Collie', 'Mean', '6', 'Female', domesticated = False)\n",
        "dog_5 = Siberian_Husky('Lassie', 'Brown', 'Siberian Husky','Shy', '2', 'Male', domesticated= True)\n",
        "dog_6 = Pekingese('Benji', 'Yellow', 'Pekingese', 'Hyper', '11', 'Female', domesticated = True)         #not sure how to loop instantiate, if each instance has totally differnet values?\n",
        "\n",
        "print(dog_3.herd_the_kids())\n",
        "print(dog_6.bark())\n",
        "print(dog_4.bark())\n",
        "print(dog_5.gender)\n",
        "print(dog_2.domesticated)\n",
        "print(dog_5.temperament)"
      ],
      "execution_count": null,
      "outputs": [
        {
          "output_type": "stream",
          "text": [
            "Here are your children!\n",
            "Yap!\n",
            "Woof!\n",
            "Male\n",
            "True\n",
            "Shy\n"
          ],
          "name": "stdout"
        }
      ]
    },
    {
      "cell_type": "markdown",
      "metadata": {
        "id": "m7YmFSBWQVTB"
      },
      "source": [
        "\n",
        "\n",
        "### P4.PY (OPTIONAL)\n",
        "\n",
        "\n"
      ]
    },
    {
      "cell_type": "code",
      "metadata": {
        "id": "1d7XsSD8QVTB"
      },
      "source": [
        "\"\"\"\n",
        "Dogs IV - Tricks (CHALLENGE!)\n",
        "\"\"\"\n",
        "\n",
        "# Many dogs know how to do common tricks or follow common commands. You could create methods for each trick/command in the Dog parent class, but the problem is that not all dogs know all tricks/commands. \n",
        "\n",
        "# However, it would be inefficient to define a custom set of instance methods for tricks/commands every time you instantiate a unique Collie (or SiberianHuskey or Pekingese etc.).\n",
        "\n",
        "# Find an efficient way to specify which tricks each unique dog knows and to call them. You can use \"roll_over\", \"fetch\", \"shake_hands\", and \"spin\". Secondly, find a way to teach a dog new trick from this set.\n",
        "\n",
        "\n"
      ],
      "execution_count": null,
      "outputs": []
    },
    {
      "cell_type": "markdown",
      "metadata": {
        "id": "JjH9Q0XiQVTD"
      },
      "source": [
        "\n"
      ]
    },
    {
      "cell_type": "code",
      "metadata": {
        "id": "KaY-zJCMD5oj"
      },
      "source": [
        ""
      ],
      "execution_count": null,
      "outputs": []
    },
    {
      "cell_type": "code",
      "metadata": {
        "id": "wmxM2UH6D5zG"
      },
      "source": [
        ""
      ],
      "execution_count": null,
      "outputs": []
    },
    {
      "cell_type": "code",
      "metadata": {
        "id": "IsxLWlemD5wq"
      },
      "source": [
        ""
      ],
      "execution_count": null,
      "outputs": []
    }
  ]
}