{
  "nbformat": 4,
  "nbformat_minor": 0,
  "metadata": {
    "colab": {
      "name": "GeneralAssembly Python Homework-lists.ipynb",
      "provenance": [],
      "collapsed_sections": [
        "m40a2IGVVI_-",
        "fyknlYbQVJAj"
      ],
      "include_colab_link": true
    },
    "kernelspec": {
      "name": "python3",
      "display_name": "Python 3"
    }
  },
  "cells": [
    {
      "cell_type": "markdown",
      "metadata": {
        "id": "view-in-github",
        "colab_type": "text"
      },
      "source": [
        "<a href=\"https://colab.research.google.com/github/thepjos/thepjos/blob/main/GeneralAssembly_Python_Homework_lists.ipynb\" target=\"_parent\"><img src=\"https://colab.research.google.com/assets/colab-badge.svg\" alt=\"Open In Colab\"/></a>"
      ]
    },
    {
      "cell_type": "markdown",
      "metadata": {
        "id": "Yr_KNJCvVI_l"
      },
      "source": [
        "#  LISTS"
      ]
    },
    {
      "cell_type": "markdown",
      "metadata": {
        "id": "wnygsOhDVRof"
      },
      "source": [
        "## LIST OPS"
      ]
    },
    {
      "cell_type": "markdown",
      "metadata": {
        "id": "3YuVvl6vVSvP"
      },
      "source": [
        "### P1.PY"
      ]
    },
    {
      "cell_type": "code",
      "metadata": {
        "id": "Ir33rYgDVI_m",
        "colab": {
          "base_uri": "https://localhost:8080/",
          "height": 85
        },
        "outputId": "c61bc65f-49ac-44f9-da96-820e8cf93e33"
      },
      "source": [
        "\"\"\"\n",
        "Basic List Operations I\n",
        "\"\"\"\n",
        "\n",
        "# Create a list including these five animals - elephant, tiger, otter, orangutan, and penguin.\n",
        "\n",
        "\n",
        "# Print the 4th animal on the list.\n",
        "\n",
        "\n",
        "# Add 'tortoise' to the beginning of the list.\n",
        "\n",
        "\n",
        "# Print the length of the list.\n",
        "\n",
        "\n",
        "# Remove 'orangutan' from the list.\n",
        "\n",
        "\n",
        "# Sort the list alphabetically and print it out.\n",
        "\n",
        "animals = ['elephant', 'tiger', 'otter', 'orangutan', 'penguin']\n",
        "animals\n",
        "print(animals[3])\n",
        "animals.insert(0,'tortoise')\n",
        "print(len(animals))\n",
        "animals.remove('orangutan')\n",
        "print(animals)\n",
        "animals.sort()\n",
        "print(animals)"
      ],
      "execution_count": null,
      "outputs": [
        {
          "output_type": "stream",
          "text": [
            "orangutan\n",
            "6\n",
            "['tortoise', 'elephant', 'tiger', 'otter', 'penguin']\n",
            "['elephant', 'otter', 'penguin', 'tiger', 'tortoise']\n"
          ],
          "name": "stdout"
        }
      ]
    },
    {
      "cell_type": "markdown",
      "metadata": {
        "id": "iopPhVNUVI_p"
      },
      "source": [
        "\n",
        "\n",
        "### P2.PY\n",
        "\n",
        "\n"
      ]
    },
    {
      "cell_type": "code",
      "metadata": {
        "id": "4kMd_uBjVI_q",
        "colab": {
          "base_uri": "https://localhost:8080/",
          "height": 119
        },
        "outputId": "71b7bf4a-a85a-4603-f658-756936017e74"
      },
      "source": [
        "\"\"\"\n",
        "Basic List Operations II\n",
        "\"\"\"\n",
        "\n",
        "# Declare a list with 5 names, and print out the length of that list.\n",
        "names = ['jim', 'jon', 'bob', 'tim', 'jan']\n",
        "print(len(names))\n",
        "# Print the 3rd name on the list\n",
        "print(names[2])\n",
        "\n",
        "\n",
        "# Delete the first name on the list\n",
        "\n",
        "names.remove('jim')\n",
        "print(names)\n",
        "# Re-add the name you deleted to the end of the list\n",
        "names.append('jim')\n",
        "print(names)\n",
        "\n",
        "\n",
        "# Replace the 2nd name on the list with a new name.\n",
        "names[1] = 'josh'\n",
        "print(names)\n",
        "\n",
        "# Add 3 new names to the end of the list.\n",
        "names.append('tom')\n",
        "names.append('pat')\n",
        "names.append('mike')\n",
        "print(names)\n"
      ],
      "execution_count": null,
      "outputs": [
        {
          "output_type": "stream",
          "text": [
            "5\n",
            "bob\n",
            "['jon', 'bob', 'tim', 'jan']\n",
            "['jon', 'bob', 'tim', 'jan', 'jim']\n",
            "['jon', 'josh', 'tim', 'jan', 'jim']\n",
            "['jon', 'josh', 'tim', 'jan', 'jim', 'tom', 'pat', 'mike']\n"
          ],
          "name": "stdout"
        }
      ]
    },
    {
      "cell_type": "markdown",
      "metadata": {
        "id": "lydOzGvFVI_6"
      },
      "source": [
        "\n",
        "\n",
        "### P3.PY\n",
        "\n",
        "\n"
      ]
    },
    {
      "cell_type": "code",
      "metadata": {
        "id": "86gQFKLNVI_7",
        "colab": {
          "base_uri": "https://localhost:8080/",
          "height": 102
        },
        "outputId": "1dd89e7e-f431-46ef-c720-cc7df246be0c"
      },
      "source": [
        "\"\"\"\n",
        "Math Operations\n",
        "\"\"\"\n",
        "\n",
        "# Save a list with the numbers `2`, `4`, `6`, and `8` into a variable called `numbers`. Use this variable for all the problems in this PSET.\n",
        "\n",
        "numbers = [2,4,6,8]\n",
        "print(numbers)\n",
        "\n",
        "# Print the max of `numbers`.\n",
        "print(max(numbers))\n",
        "\n",
        "# Pop the last element in `numbers` off; re-insert it at index `2` and print the resultant list.\n",
        "\n",
        "\n",
        "numbers[2] = numbers.pop()\n",
        "print(numbers)\n",
        "\n",
        "# Pop the second number in `numbers` off.\n",
        "\n",
        "numbers.remove(4)       # can also remove using indexing like i did below as practice. do this in case you dont know the list item. in this case the instructiions dont \n",
        "                          # specifically ask for that \n",
        "                          # had to go  back and make my list integers and not strings, after getting errors in the last part of the problem\n",
        "\n",
        "# Append `3` to `numbers`.\n",
        "\n",
        "numbers.append(3)\n",
        "print(numbers)\n",
        "\n",
        "\n",
        "\n",
        "# Print out the average number.\n",
        "print(sum(numbers)/len(numbers))    # was able to do this only after changing them from strings to integers\n",
        "\n",
        "\n"
      ],
      "execution_count": null,
      "outputs": [
        {
          "output_type": "stream",
          "text": [
            "[2, 4, 6, 8]\n",
            "8\n",
            "[2, 4, 8]\n",
            "[2, 8, 3]\n",
            "4.333333333333333\n"
          ],
          "name": "stdout"
        }
      ]
    },
    {
      "cell_type": "code",
      "metadata": {
        "id": "cps349x7h1lI",
        "colab": {
          "base_uri": "https://localhost:8080/",
          "height": 51
        },
        "outputId": "8fa55cc9-4fc4-4c69-a561-e5140962fcd3"
      },
      "source": [
        "practice_numbers = ['2', '4', '6', '8']       #this was just practice, popping numbers out of the middle of strings \n",
        "print(practice_numbers)\n",
        "practice_numbers.remove(practice_numbers[2])\n",
        "print(practice_numbers)"
      ],
      "execution_count": null,
      "outputs": [
        {
          "output_type": "stream",
          "text": [
            "['2', '4', '6', '8']\n",
            "['2', '4', '8']\n"
          ],
          "name": "stdout"
        }
      ]
    },
    {
      "cell_type": "markdown",
      "metadata": {
        "id": "m40a2IGVVI_-"
      },
      "source": [
        "\n",
        "\n",
        "## SORTING\n",
        "\n",
        "\n"
      ]
    },
    {
      "cell_type": "markdown",
      "metadata": {
        "id": "2XYhGsPjVUx8"
      },
      "source": [
        "### P1.PY"
      ]
    },
    {
      "cell_type": "code",
      "metadata": {
        "id": "NRi8DF1eVI_-",
        "colab": {
          "base_uri": "https://localhost:8080/",
          "height": 68
        },
        "outputId": "7464c0ae-d148-465a-df0b-b4438a7989de"
      },
      "source": [
        "\"\"\"\n",
        "Spotify Playlists - Sorting\n",
        "\"\"\"\n",
        "\n",
        "# You work for Spotify and are creating a feature for users to alphabetize their playlists by song title. Below is a list of titles from a sample playlist.\n",
        "\n",
        "playlist_titles = ['Tiny Dancer', 'At Last', 'Fortunate Son', \n",
        "'Hey Jude', 'Isn\\'t She Lovely', 'Just the Way You Are', 'I\\'m Yours',\n",
        "'Vienna', 'Roxanne', 'Dancing in the Moonlight']\n",
        "print(playlist_titles)\n",
        "# Alphabetize these songs and print the result.\n",
        "\n",
        "playlist_titles.sort()\n",
        "print(playlist_titles)\n",
        "\n",
        "# Now do the reverse.\n",
        "playlist_titles.sort(reverse = True)\n",
        "print(playlist_titles)\n"
      ],
      "execution_count": null,
      "outputs": [
        {
          "output_type": "stream",
          "text": [
            "['Tiny Dancer', 'At Last', 'Fortunate Son', 'Hey Jude', \"Isn't She Lovely\", 'Just the Way You Are', \"I'm Yours\", 'Vienna', 'Roxanne', 'Dancing in the Moonlight']\n",
            "['At Last', 'Dancing in the Moonlight', 'Fortunate Son', 'Hey Jude', \"I'm Yours\", \"Isn't She Lovely\", 'Just the Way You Are', 'Roxanne', 'Tiny Dancer', 'Vienna']\n",
            "['Vienna', 'Tiny Dancer', 'Roxanne', 'Just the Way You Are', \"Isn't She Lovely\", \"I'm Yours\", 'Hey Jude', 'Fortunate Son', 'Dancing in the Moonlight', 'At Last']\n"
          ],
          "name": "stdout"
        }
      ]
    },
    {
      "cell_type": "markdown",
      "metadata": {
        "id": "0xVs38QYVJAA"
      },
      "source": [
        "\n",
        "\n",
        "### P2.PY\n",
        "\n",
        "\n"
      ]
    },
    {
      "cell_type": "code",
      "metadata": {
        "id": "VXtT3BB0VJAB",
        "colab": {
          "base_uri": "https://localhost:8080/",
          "height": 68
        },
        "outputId": "631d53bd-85f3-4943-c2c1-1c6af66eb183"
      },
      "source": [
        "\"\"\"\n",
        "Ordering Random Numbers\n",
        "\"\"\"\n",
        "\n",
        "# Create a list of 6 randomly generated numbers called numbers and sort it in descending order.\n",
        "\n",
        "import random\n",
        "randn1 = random.randint(1, 100)\n",
        "randn2 = random.randint(1, 100)\n",
        "randn3 = random.randint(1, 100)\n",
        "randn4 = random.randint(1, 100)\n",
        "randn5 = random.randint(1, 100)\n",
        "randn6 = random.randint(1, 100)\n",
        "print(randn1,randn2,randn3,randn4,randn5, randn6)\n",
        "\n",
        "numbers = [randn1,randn2,randn3,randn4,randn5, randn6]      # i'm sure there is a better way . will double back if i have time before sunday\n",
        "print(numbers)\n",
        "numbers.sort(reverse = True)\n",
        "print(numbers)"
      ],
      "execution_count": null,
      "outputs": [
        {
          "output_type": "stream",
          "text": [
            "63 21 40 41 58 83\n",
            "[63, 21, 40, 41, 58, 83]\n",
            "[83, 63, 58, 41, 40, 21]\n"
          ],
          "name": "stdout"
        }
      ]
    },
    {
      "cell_type": "markdown",
      "metadata": {
        "id": "cN7amwMkVJAR"
      },
      "source": [
        "## LIST MANIPULATION\n"
      ]
    },
    {
      "cell_type": "markdown",
      "metadata": {
        "id": "ImDqbHx5VY4P"
      },
      "source": [
        "### P1.PY"
      ]
    },
    {
      "cell_type": "code",
      "metadata": {
        "id": "z8OOTUg6VJAT",
        "colab": {
          "base_uri": "https://localhost:8080/",
          "height": 68
        },
        "outputId": "9cd0f255-dd11-4986-ff7e-23e1f4386da2"
      },
      "source": [
        "\"\"\"\n",
        "Phone Numbers\n",
        "\"\"\"\n",
        "\n",
        "# Parse this phone number so that a computer can process\n",
        "# it. (Hint: It can't include any non-numeric\n",
        "# characters.)\n",
        "\n",
        "cell = '1.192.168.0143'\n",
        "print(cell)\n",
        "\n",
        "cell = cell.split('.')    # is this parsing correcT? its now a list of numbers or strings at least. will try to make ints\n",
        "print(cell)\n",
        "cell = int(cell[0])   # could go one by one possibly if needed to undo this from a list. could name each like \" one,  area_code,  3dig, 4 dig\"\n",
        "print(cell)\n"
      ],
      "execution_count": null,
      "outputs": [
        {
          "output_type": "stream",
          "text": [
            "1.192.168.0143\n",
            "['1', '192', '168', '0143']\n",
            "1\n"
          ],
          "name": "stdout"
        }
      ]
    },
    {
      "cell_type": "code",
      "metadata": {
        "id": "1VyV9Qqut4li",
        "colab": {
          "base_uri": "https://localhost:8080/",
          "height": 51
        },
        "outputId": "0f8d599d-9055-475c-f90f-4d61f1e85eb4"
      },
      "source": [
        "practice_numbers = ['2', '4', '6', '8']       #this was just practice, popping numbers out of the middle of strings \n",
        "print(practice_numbers)\n",
        "practice_numbers.remove(practice_numbers[2])\n",
        "print(practice_numbers)\n"
      ],
      "execution_count": null,
      "outputs": [
        {
          "output_type": "stream",
          "text": [
            "['2', '4', '6', '8']\n",
            "['2', '4', '8']\n"
          ],
          "name": "stdout"
        }
      ]
    },
    {
      "cell_type": "markdown",
      "metadata": {
        "id": "HpUeu1YiVJAX"
      },
      "source": [
        "\n",
        "\n",
        "### P2.PY\n",
        "\n",
        "\n"
      ]
    },
    {
      "cell_type": "code",
      "metadata": {
        "id": "O1ZpW64qVJAa",
        "colab": {
          "base_uri": "https://localhost:8080/",
          "height": 102
        },
        "outputId": "565387f3-0520-43cf-dd32-b0ffd32d0a21"
      },
      "source": [
        "\"\"\"\n",
        "Basic Math Ops\n",
        "\"\"\"\n",
        "nums = [2, 19, 20, 12, 6, 24, 8, 30, 28, 25]\n",
        "# Given the list below, assign the correct values to the variables below.\n",
        "my_sum = sum(nums)\n",
        "my_min = min(nums)\n",
        "my_max = max(nums)\n",
        "my_range = range(my_min,my_max)\n",
        "my_mean = my_sum/len(nums)\n",
        "\n",
        "\n",
        "\n",
        "# Once you finish, print out each value **on its own line** in this format: \"my_median = \" etc.\n",
        "\n",
        "print(f'my_sum = {my_sum}') \n",
        "print(f'my_min = {my_min}') \n",
        "print(f'my_max = {my_max}') \n",
        "print(f'my_range = {my_range}') \n",
        "print(f'my_mean = {my_mean}') \n",
        "\n",
        "\n"
      ],
      "execution_count": null,
      "outputs": [
        {
          "output_type": "stream",
          "text": [
            "my_sum = 174\n",
            "my_min = 2\n",
            "my_max = 30\n",
            "my_range = range(2, 30)\n",
            "my_mean = 17.4\n"
          ],
          "name": "stdout"
        }
      ]
    },
    {
      "cell_type": "markdown",
      "metadata": {
        "id": "X3BMzIHyVJAd"
      },
      "source": [
        "\n",
        "\n",
        "### P3.PY\n",
        "\n",
        "\n"
      ]
    },
    {
      "cell_type": "code",
      "metadata": {
        "id": "jz3ccPm3VJAe",
        "colab": {
          "base_uri": "https://localhost:8080/",
          "height": 85
        },
        "outputId": "52fcbe1d-0361-4296-869e-a18cee0530f3"
      },
      "source": [
        "\"\"\"\n",
        "Merge Lists with Duplicates\n",
        "\"\"\"\n",
        "\n",
        "# Use the two lists below to solve this problem. Print out the result from each section as you go along.\n",
        "\n",
        "list1 = [2, 8, 6]\n",
        "list2 = [10, 4, 12]\n",
        "\n",
        "\n",
        "# A) Add another instance of each item in list1 to list1 again and assign the results to list3.\n",
        "list3 = list1 + list1\n",
        "print(list3)\n",
        "\n",
        "\n",
        "# B) Combine the two given lists and assign them to list4.\n",
        "list4 = list1 + list2\n",
        "print(list4)\n",
        "\n",
        "# C) Replace the first 3 items in list 3 with the numbers 13, 16, 9.\n",
        "list3[:2] = [13, 16, 9]\n",
        "print(list3)\n",
        "\n",
        "# D) Merge list3 and list4 to create a list containing no duplicates and store this in list5.\n",
        "list5 = list3 + list4\n",
        "print(set(list5))     # ok to use set ? found on google. maybe could have used if statments?\n",
        "\n",
        "# Take a look at your printed statements to see the evolution of your lists with each step of this problem.\n"
      ],
      "execution_count": null,
      "outputs": [
        {
          "output_type": "stream",
          "text": [
            "[2, 8, 6, 2, 8, 6]\n",
            "[2, 8, 6, 10, 4, 12]\n",
            "[13, 16, 9, 6, 2, 8, 6]\n",
            "{2, 4, 6, 8, 9, 10, 12, 13, 16}\n"
          ],
          "name": "stdout"
        }
      ]
    },
    {
      "cell_type": "markdown",
      "metadata": {
        "id": "Qqtm5kHYVJAg"
      },
      "source": [
        "\n",
        "\n",
        "### P4.PY\n",
        "\n",
        "\n"
      ]
    },
    {
      "cell_type": "code",
      "metadata": {
        "id": "wgF_gvjVVJAh",
        "colab": {
          "base_uri": "https://localhost:8080/",
          "height": 85
        },
        "outputId": "9a697aeb-eee5-4c2d-bb7b-8c56a470153f"
      },
      "source": [
        "\"\"\"\n",
        "Cool Runnings!\n",
        "\"\"\"\n",
        "\n",
        "# Here's a quote from the movie 'Cool Runnings'. :)\n",
        "\n",
        "# Replace the word bobsled with \"YOLO\" and print the resultant list as 4 sentences (i.e. NOT a list), each on a new line.\n",
        "\n",
        "cool_runnings = [\n",
        "\t'Feel', 'the', 'rhythm.',\n",
        "\t'Feel', 'the', 'rhyme.',\n",
        "\t'Get', 'on', 'up.',\n",
        "\t'It\\'s', 'bobsled', 'time!']\n",
        "\n",
        "\n",
        "cool_runnings.insert(cool_runnings.index('bobsled'), 'YOLO')\n",
        "cool_runnings.remove('bobsled')\n",
        "first = cool_runnings[0:3]\n",
        "second = cool_runnings[3:6]\n",
        "third = cool_runnings[6:9]\n",
        "fourth = cool_runnings[9:12]\n",
        "\n",
        "print(f'{first}\\n{second}\\n{third}\\n{fourth}')\n",
        "\n",
        "# names.index('diana prince')"
      ],
      "execution_count": null,
      "outputs": [
        {
          "output_type": "stream",
          "text": [
            "['Feel', 'the', 'rhythm.']\n",
            "['Feel', 'the', 'rhyme.']\n",
            "['Get', 'on', 'up.']\n",
            "[\"It's\", 'YOLO', 'time!']\n"
          ],
          "name": "stdout"
        }
      ]
    },
    {
      "cell_type": "markdown",
      "metadata": {
        "id": "fyknlYbQVJAj"
      },
      "source": [
        "## LIST CHALLENGES - THESE ARE OPTIONAL!\n",
        "\n",
        "\n"
      ]
    },
    {
      "cell_type": "markdown",
      "metadata": {
        "id": "qYrO5tA-VdxK"
      },
      "source": [
        "### P1.PY"
      ]
    },
    {
      "cell_type": "code",
      "metadata": {
        "id": "R1ouYtGvVJAq",
        "colab": {
          "base_uri": "https://localhost:8080/",
          "height": 53
        },
        "outputId": "bfbdf5a6-bbae-4cc7-a38f-5afe80136128"
      },
      "source": [
        "\"\"\"\n",
        "CHALLENGE - Extensions\n",
        "\"\"\"\n",
        "\n",
        "# ** Challenge** Add each element of the tuple1 to list1 *individually* and print the result.\n",
        "\n",
        "list1 = [6, 12, 9, 4, 10, 1]\n",
        "tuple1 = [(15,3), (6,2), (1, 8)]\n",
        "list2 = tuple1[0]\n",
        "list3 = tuple1[1]\n",
        "list4= tuple1[2]\n",
        "\n",
        "print(list2 + list3 + list4)\n",
        "list5= list1.append(list2)\n",
        "print(list5)\n",
        "\n",
        "\n",
        "#print(list1 + list2 + list3 +list4)   # need to learn how to break up a tuple"
      ],
      "execution_count": null,
      "outputs": [
        {
          "output_type": "stream",
          "text": [
            "(15, 3, 6, 2, 1, 8)\n",
            "None\n"
          ],
          "name": "stdout"
        }
      ]
    },
    {
      "cell_type": "markdown",
      "metadata": {
        "id": "X5MSdZzXVJAt"
      },
      "source": [
        "\n",
        "\n",
        "### P2.PY\n",
        "\n",
        "\n"
      ]
    },
    {
      "cell_type": "code",
      "metadata": {
        "id": "xyu2RSZcVJAt"
      },
      "source": [
        "\"\"\"\n",
        "CHALLENGE - Core Statistics Calculations\n",
        "\"\"\"\n",
        "\n",
        "# Given the sample below, find the mean, median, mode, variance, and standard deviation of this sample. Print them out separately, but in the same format as before.\n",
        "\t# my_median = \n",
        "\t# my_mode = \n",
        "\t# my_variance = \n",
        "\t# my_sd = \n",
        "\n",
        "sample = [6, 19, 20, 12, 6, 24, 8, 30, 28, 25]\n",
        "\n",
        "\n",
        "# Once you finish, print out each value **on its own line** in this format: \"median = \" etc.\n"
      ],
      "execution_count": null,
      "outputs": []
    }
  ]
}