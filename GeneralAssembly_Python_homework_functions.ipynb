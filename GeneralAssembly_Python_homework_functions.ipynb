{
  "nbformat": 4,
  "nbformat_minor": 0,
  "metadata": {
    "colab": {
      "name": "GeneralAssembly Python homework-functions.ipynb",
      "provenance": [],
      "collapsed_sections": [],
      "include_colab_link": true
    },
    "kernelspec": {
      "name": "python3",
      "display_name": "Python 3"
    }
  },
  "cells": [
    {
      "cell_type": "markdown",
      "metadata": {
        "id": "view-in-github",
        "colab_type": "text"
      },
      "source": [
        "<a href=\"https://colab.research.google.com/github/thepjos/thepjos/blob/main/GeneralAssembly_Python_homework_functions.ipynb\" target=\"_parent\"><img src=\"https://colab.research.google.com/assets/colab-badge.svg\" alt=\"Open In Colab\"/></a>"
      ]
    },
    {
      "cell_type": "markdown",
      "metadata": {
        "id": "43e1PgRyNeyZ"
      },
      "source": [
        "<a href=\"https://colab.research.google.com/github/mottaquikarim/PYTH2/blob/master/src/PSETS/nb/classes_psets.ipynb\" target=\"_parent\"><img src=\"https://colab.research.google.com/assets/colab-badge.svg\" alt=\"Open In Colab\"/></a>"
      ]
    },
    {
      "cell_type": "markdown",
      "metadata": {
        "id": "_IvyUuPjNeyb"
      },
      "source": [
        "#  FUNCTIONS"
      ]
    },
    {
      "cell_type": "markdown",
      "metadata": {
        "id": "2BzQpahVqMub"
      },
      "source": [
        "A QUICK NOTE: MAKE SURE THAT YOU **TEST** YOUR FUNCTIONS BY CALLING THEM AFTER YOU CREATE THEM. THAT WAY, YOU'RE ENSURING THAT YOUR FUNCTION WORKS AS INTENDED. (THIS ALSO MAKES IT EASIER TO GRADE.)"
      ]
    },
    {
      "cell_type": "markdown",
      "metadata": {
        "id": "RGgp__RZNvUy"
      },
      "source": [
        "## BASIC FUNCTION OPS"
      ]
    },
    {
      "cell_type": "markdown",
      "metadata": {
        "id": "yEdzSlN8NwyE"
      },
      "source": [
        "### P1.PY"
      ]
    },
    {
      "cell_type": "code",
      "metadata": {
        "id": "XixCtMjENeye",
        "colab": {
          "base_uri": "https://localhost:8080/",
          "height": 34
        },
        "outputId": "148ae0f4-b347-4a9b-d87d-878621d185e7"
      },
      "source": [
        "\"\"\"\n",
        "Function Basics I - No Input\n",
        "\"\"\"\n",
        "\n",
        "# Write a function called \"rand_list\" that generates a list of 5 random numbers between 1 and 500. Print out that list.\n",
        "\n",
        "from random import randint\n",
        "\n",
        "list = []\n",
        "def rand_list():\n",
        "  for i in range(1,6):\n",
        "    i = randint(1,501)\n",
        "    list.append(i)\n",
        "  print(list)\n",
        "\n",
        "rand_list()\n",
        "\n",
        "\n"
      ],
      "execution_count": null,
      "outputs": [
        {
          "output_type": "stream",
          "text": [
            "[46, 70, 80, 484, 218]\n"
          ],
          "name": "stdout"
        }
      ]
    },
    {
      "cell_type": "code",
      "metadata": {
        "id": "owh2NuF-m5vP"
      },
      "source": [
        "\n"
      ],
      "execution_count": null,
      "outputs": []
    },
    {
      "cell_type": "code",
      "metadata": {
        "id": "JNLj-Vzkm8b-"
      },
      "source": [
        ""
      ],
      "execution_count": null,
      "outputs": []
    },
    {
      "cell_type": "markdown",
      "metadata": {
        "id": "JHygF2-tNeyk"
      },
      "source": [
        "### P2.PY\n"
      ]
    },
    {
      "cell_type": "code",
      "metadata": {
        "id": "a08oiPvoNeyl",
        "colab": {
          "base_uri": "https://localhost:8080/",
          "height": 35
        },
        "outputId": "1832a006-cbca-4ee7-838a-e35bd2134511"
      },
      "source": [
        "\"\"\"\n",
        "Function Basics II - Arguments\n",
        "\"\"\"\n",
        "\n",
        "# Write a function called \"names\" that SEPARATELY intakes a person's first name and a person's last name. \n",
        "# The function should concatenate the names and RETURN the person's full name.\n",
        "\n",
        "def names(f_name, l_name):\n",
        "  f_name = str(f_name)\n",
        "  l_name = str(l_name)\n",
        "  name = f_name + \" \" + l_name\n",
        "  return name\n",
        "\n",
        "\n",
        "names('tim','jones')\n",
        "\n",
        "\n"
      ],
      "execution_count": null,
      "outputs": [
        {
          "output_type": "execute_result",
          "data": {
            "application/vnd.google.colaboratory.intrinsic+json": {
              "type": "string"
            },
            "text/plain": [
              "'tim jones'"
            ]
          },
          "metadata": {
            "tags": []
          },
          "execution_count": 21
        }
      ]
    },
    {
      "cell_type": "markdown",
      "metadata": {
        "id": "tFsdo4A6Neyn"
      },
      "source": [
        "\n",
        "### P3.PY\n"
      ]
    },
    {
      "cell_type": "code",
      "metadata": {
        "id": "DBA7Joa8Neyp",
        "colab": {
          "base_uri": "https://localhost:8080/",
          "height": 34
        },
        "outputId": "2f5f5679-5ed0-4810-ec18-ff07fa8cb142"
      },
      "source": [
        "\"\"\"\n",
        "Function Basics III - Default Arguments\n",
        "\"\"\"\n",
        "\n",
        "# Now write a function called \"fave_colors\" that separately intakes a person's first name, a person's last name, \n",
        "# and **optionally** their favorite color.\n",
        "\n",
        "# The function should create and return a dict with the full name as a key and the favorite color as the value. \n",
        "# If the person does not enter a favorite color, you should assume they have no favorite color and assign theirs to None. Try both use cases.\n",
        "\n",
        "def fave_colors(f_name,l_name,f_color=None):\n",
        "  dict = {}\n",
        "                         \n",
        "  if f_color is not None:\n",
        "    name = f_name + \" \" + l_name\n",
        "    dict[name] = f_color\n",
        "    return dict\n",
        "  else:\n",
        "    name = f_name + \" \" + l_name\n",
        "    dict[name] = \"None\"\n",
        "  return dict\n",
        "\n",
        "fave_colors(\"joe\", 'bob')                     #works by self as well\n",
        "fave_colors('tim','johnson', 'blue')"
      ],
      "execution_count": null,
      "outputs": [
        {
          "output_type": "execute_result",
          "data": {
            "text/plain": [
              "{'tim johnson': 'blue'}"
            ]
          },
          "metadata": {
            "tags": []
          },
          "execution_count": 33
        }
      ]
    },
    {
      "cell_type": "code",
      "metadata": {
        "id": "NprMFC3zgBxr",
        "colab": {
          "base_uri": "https://localhost:8080/",
          "height": 51
        },
        "outputId": "4dbb1268-dcee-4ab9-ecb7-e95706cf59f2"
      },
      "source": [
        "test = input('type something: ')        #was just testing out the none line for when someone doesnt enter a color, disregard\n",
        "if test == \"\":\n",
        "  print('yes')\n",
        "else:\n",
        "  print('no')\n",
        "\n"
      ],
      "execution_count": null,
      "outputs": [
        {
          "output_type": "stream",
          "text": [
            "type something: \n",
            "yes\n"
          ],
          "name": "stdout"
        }
      ]
    },
    {
      "cell_type": "markdown",
      "metadata": {
        "id": "cWqpS8KLNeyz"
      },
      "source": [
        "\n",
        "### P4.PY\n"
      ]
    },
    {
      "cell_type": "code",
      "metadata": {
        "id": "WmATxpzvNey0",
        "colab": {
          "base_uri": "https://localhost:8080/",
          "height": 68
        },
        "outputId": "d32dc6f9-d81c-45ca-c146-b51249ed53f8"
      },
      "source": [
        "\"\"\"\n",
        "Function Basics IV - Multiple Return Values\n",
        "\"\"\"\n",
        "\n",
        "# Write a function called \"figures\" that takes any two numbers and **individually** returns the following as integers:\n",
        "# their sum\n",
        "# their product\n",
        "# the quotient for num1 / num2\n",
        "\n",
        "\"\"\"Print each value out individually in this format:\n",
        "\n",
        "Let's use 12 and 3 as an example:\n",
        "sum: 15\n",
        "product: 36\n",
        "quotient: 4\n",
        "\"\"\"\n",
        "\n",
        "def figures(x,y):\n",
        "  sum = x + y\n",
        "  prod = x * y\n",
        "  quot = int(x / y) \n",
        " # return sum, prod, quot                     not sure if supposed to \"return\"  the numbers like this, or print. just need to un-note thsi and it returns it \n",
        "  print(f'Sum: {sum}')\n",
        "  print(f'Product: {prod}')\n",
        "  print(f'Quotient: {quot}')\n",
        "\n",
        "figures(12,3)\n"
      ],
      "execution_count": null,
      "outputs": [
        {
          "output_type": "stream",
          "text": [
            "Sum: 15\n",
            "Product: 36\n",
            "Quotient: 4\n"
          ],
          "name": "stdout"
        }
      ]
    },
    {
      "cell_type": "markdown",
      "metadata": {
        "id": "pqxwEC16Ney2"
      },
      "source": [
        "\n",
        "### P5.PY\n"
      ]
    },
    {
      "cell_type": "code",
      "metadata": {
        "id": "i_tVcZ1FNey3",
        "colab": {
          "base_uri": "https://localhost:8080/",
          "height": 34
        },
        "outputId": "0f9f13dd-a364-4d3d-b165-5e87ca47ef93"
      },
      "source": [
        "\"\"\"\n",
        "Function Basics V - Indeterminate Arguments\n",
        "\"\"\"\n",
        "\n",
        "# Write a function called \"high_low\" that takes 3 numbers and RETURNS the highest one and the lowest one.\n",
        "\n",
        "\n",
        "def high_low(x,y,z):\n",
        "  high = max(x,y,z)\n",
        "  low = min(x,y,z)\n",
        "  \n",
        "  return high, low\n",
        " \n",
        "\n",
        "high_low(47, 77, 61)"
      ],
      "execution_count": null,
      "outputs": [
        {
          "output_type": "execute_result",
          "data": {
            "text/plain": [
              "(77, 47)"
            ]
          },
          "metadata": {
            "tags": []
          },
          "execution_count": 47
        }
      ]
    },
    {
      "cell_type": "markdown",
      "metadata": {
        "id": "1p9TsLXtNey5"
      },
      "source": [
        "\n",
        "## DB_SEARCH\n"
      ]
    },
    {
      "cell_type": "markdown",
      "metadata": {
        "id": "W5DLuftkNyog"
      },
      "source": [
        "### P1.PY"
      ]
    },
    {
      "cell_type": "code",
      "metadata": {
        "id": "WvU9x79ZNey6",
        "colab": {
          "base_uri": "https://localhost:8080/",
          "height": 35
        },
        "outputId": "afe46dd5-b3a8-4f36-a8a5-47547530cce0"
      },
      "source": [
        "\"\"\"\n",
        "GPA Calculator\n",
        "\"\"\"\n",
        "\n",
        "# Write a function called \"simple_gpa\" to find the GPA when student enters a letter grade as a string. \n",
        "# Assign the result to a variable called \"gpa\".\n",
        "\n",
        "\"\"\"\n",
        "Use these conversions:\n",
        "A+ --> 4.0\n",
        "A --> 4.0\n",
        "A- --> 3.7\n",
        "B+ --> 3.3\n",
        "B --> 3.0\n",
        "B- --> 2.7\n",
        "C+ --> 2.3\n",
        "C --> 2.0\n",
        "C- --> 1.7\n",
        "D+ --> 1.3\n",
        "D --> 1.0\n",
        "D- --> 0.7\n",
        "F --> 0.0\n",
        "\"\"\"\n",
        "\n",
        "\n",
        "#print(str(ltr_grade))\n",
        "#isinstance(ltr_grade,str)           # used this to see if these were strings\n",
        "\n",
        "grades = {'A+' : '4.0',         #tryign to put them all in a dictionary to look up the key and return the value\n",
        "          'A' : '4.0',\n",
        "          'A-' : '3.7',\n",
        "          'B+' : '3.3',\n",
        "          'B' : '3.0',\n",
        "          'B-' : '2.7',\n",
        "          'C+' : '2.3',\n",
        "          'C' : '2.0',\n",
        "          'C-' : '1.7',\n",
        "          'D+' : '1.3',\n",
        "          'D' : '1.0',\n",
        "          'D-' : '0.7',\n",
        "          'F' : '0.0'}\n",
        "\n",
        "def simple_gpa(x):\n",
        "  gpa = grades[x]\n",
        "  return gpa\n",
        "\n",
        "\n",
        "simple_gpa('D')                   #must enter as string. couldnt figure out how to convert. works when enter as string like asked though"
      ],
      "execution_count": null,
      "outputs": [
        {
          "output_type": "execute_result",
          "data": {
            "application/vnd.google.colaboratory.intrinsic+json": {
              "type": "string"
            },
            "text/plain": [
              "'1.0'"
            ]
          },
          "metadata": {
            "tags": []
          },
          "execution_count": 108
        }
      ]
    },
    {
      "cell_type": "markdown",
      "metadata": {
        "id": "XJfdr65oNey8"
      },
      "source": [
        "\n",
        "### P2.PY\n",
        "\n"
      ]
    },
    {
      "cell_type": "code",
      "metadata": {
        "id": "STG3hDMhNey9",
        "colab": {
          "base_uri": "https://localhost:8080/",
          "height": 35
        },
        "outputId": "4d53acc8-9a9e-4bf1-cd87-f6748a4d46e1"
      },
      "source": [
        "\"\"\"\n",
        "RGB to HEX\n",
        "\"\"\"\n",
        "\n",
        "# Write a function called \"rgb_hex\" that takes a parameter called \"color.\" \n",
        "# The function should be able to intake a color in rgb format and return it in hex format, \n",
        "# as well as vice versa. A sample of color conversions are below (your \"database\").\n",
        "# Write in logic so the function can interpret rgb and hex colors entered in different formats \n",
        "# such as \"rgb_hex((255,255,255))\" or \"rgb_hex('ffffff')\". \n",
        "# Also make sure to account for someone inputting a color not in the database!\n",
        "\n",
        "color_conversions = {\n",
        "'#4286f4': 'rgb(66, 134, 244)',\n",
        "'#5905c6': 'rgb(89, 5, 198)',\n",
        "'#fce702': 'rgb(252, 231, 2)',\n",
        "'#ffffff': 'rgb(255, 255, 255)',\n",
        "'#000000': 'rgb(0, 0, 0)',\n",
        "'#0ac913': 'rgb(10, 201, 19)',\n",
        "'#65c672': 'rgb(101, 198, 114)',\n",
        "'#f8d6ff': 'rgb(248, 214, 255)',                #SEE NEXT BLOCCK FOR FINAL ANSWER.  HAD TO ITERATE A FEW TIMES \n",
        "'#b70782': 'rgb(183, 7, 130)',\n",
        "'#001184': 'rgb(0, 17, 132)',\n",
        "'#495eed': 'rgb(73, 94, 237)',\n",
        "'#b7ffb8': 'rgb(183, 255, 184)',\n",
        "'#ffbf00': 'rgb(255, 191, 0)',\n",
        "'#7a020e': 'rgb(122, 2, 14)',\n",
        "'#ff5e6e': 'rgb(255, 94, 110)',\n",
        "'#22003d': 'rgb(34, 0, 61)'\n",
        "}\n",
        "\n",
        "# googled how to reverse a dictionary so i can get the reverse if entered \n",
        "#a_dictionary = {\"a\": 1, \"b\": 2}\n",
        "#reversed_dictionary = {value : key for (key, value) in a_dictionary.items()}\n",
        "\n",
        "\n",
        "rev_color_conversions = {value : key for (key, value) in color_conversions.items()}\n",
        "\n",
        "#x = input('enter color: ')            # ok so this worked. input a code and got the value. input a value and got the key. maybe could have just done a value instead of reverse but we'll see \n",
        "\n",
        "\n",
        "def rgb_hex(x):\n",
        "  if x in color_conversions:\n",
        "    return color_conversions[x]\n",
        "  elif x in rev_color_conversions:\n",
        "      return rev_color_conversions[x]\n",
        "  else:\n",
        "    print('Not in database!')\n",
        "\n",
        "#code = color_conversions[x]\n",
        "#rgb = rev_color_conversions[y]\n",
        "#print(code)\n",
        "#print(rgb)\n",
        "\n",
        "rgb_hex('#65c672')                            # SEE BELOW FOR FINAL ANSWER. this one didnt check bad formatting. only correct. below does that check! \n"
      ],
      "execution_count": null,
      "outputs": [
        {
          "output_type": "execute_result",
          "data": {
            "application/vnd.google.colaboratory.intrinsic+json": {
              "type": "string"
            },
            "text/plain": [
              "'rgb(101, 198, 114)'"
            ]
          },
          "metadata": {
            "tags": []
          },
          "execution_count": 127
        }
      ]
    },
    {
      "cell_type": "code",
      "metadata": {
        "id": "8e_DrnP0PQ1H",
        "colab": {
          "base_uri": "https://localhost:8080/",
          "height": 35
        },
        "outputId": "75e8d384-a761-4976-ac5c-7ff06217817c"
      },
      "source": [
        "color_conversions = {\n",
        "'#4286f4': 'rgb(66, 134, 244)',\n",
        "'#5905c6': 'rgb(89, 5, 198)',\n",
        "'#fce702': 'rgb(252, 231, 2)',\n",
        "'#ffffff': 'rgb(255, 255, 255)',\n",
        "'#000000': 'rgb(0, 0, 0)',\n",
        "'#0ac913': 'rgb(10, 201, 19)',\n",
        "'#65c672': 'rgb(101, 198, 114)',\n",
        "'#f8d6ff': 'rgb(248, 214, 255)',\n",
        "'#b70782': 'rgb(183, 7, 130)',\n",
        "'#001184': 'rgb(0, 17, 132)',\n",
        "'#495eed': 'rgb(73, 94, 237)',\n",
        "'#b7ffb8': 'rgb(183, 255, 184)',\n",
        "'#ffbf00': 'rgb(255, 191, 0)',\n",
        "'#7a020e': 'rgb(122, 2, 14)',\n",
        "'#ff5e6e': 'rgb(255, 94, 110)',\n",
        "'#22003d': 'rgb(34, 0, 61)'\n",
        "}\n",
        "\n",
        "rev_color_conversions = {value : key for (key, value) in color_conversions.items()}\n",
        "\n",
        "def rgb_hex(color):                                     #need to change x to color\n",
        "  if color in color_conversions:\n",
        "    return color_conversions[color]\n",
        "  elif color in rev_color_conversions:\n",
        "      return rev_color_conversions[color]\n",
        "  elif ('(' in color) or (')' in color):                    #checks for () after it already looked for the right format. add rgb and return\n",
        "    color = 'rgb' + color\n",
        "    if color in rev_color_conversions:\n",
        "      return rev_color_conversions[color]           # had to add another IF statement in to accoutn for bad entry AND not in database\n",
        "    else:\n",
        "      print('Not in database!')\n",
        "  elif len(color) == 6:                               # checks length. if they forget th # but its 6 digits, add the # and then return\n",
        "    color = '#' + color\n",
        "    if color in color_conversions:\n",
        "      return color_conversions[color]\n",
        "    else:\n",
        "      print('Not in database!')\n",
        "  else:\n",
        "    print('Not in database!')\n",
        "\n",
        "rgb_hex('rgb(34, 0, 61)')              #  FINAL  ANSWER. does the dict check both ways, checks if they forget # or rgb, returns \"not in database\" if something else"
      ],
      "execution_count": null,
      "outputs": [
        {
          "output_type": "execute_result",
          "data": {
            "application/vnd.google.colaboratory.intrinsic+json": {
              "type": "string"
            },
            "text/plain": [
              "'#22003d'"
            ]
          },
          "metadata": {
            "tags": []
          },
          "execution_count": 119
        }
      ]
    },
    {
      "cell_type": "code",
      "metadata": {
        "id": "m-dWgbnCQLR6",
        "colab": {
          "base_uri": "https://localhost:8080/",
          "height": 51
        },
        "outputId": "36db27f9-9fa8-4d4a-a6b0-fd5fae6d766a"
      },
      "source": [
        "string1 = ('12345')           #testing out adding stuff to strings ,  this was just practice code , disregard\n",
        "string2 = ('(4567)')\n",
        "if ')' in string2:\n",
        "  print('yes')\n",
        "  string2 = 'rgb' + string2\n",
        "  print(string2)\n",
        "else:\n",
        "  print('no')"
      ],
      "execution_count": null,
      "outputs": [
        {
          "output_type": "stream",
          "text": [
            "yes\n",
            "rgb(4567)\n"
          ],
          "name": "stdout"
        }
      ]
    },
    {
      "cell_type": "markdown",
      "metadata": {
        "id": "AQVD0N7BNezC"
      },
      "source": [
        "\n",
        "\n",
        "## MATH\n",
        "\n",
        "\n"
      ]
    },
    {
      "cell_type": "markdown",
      "metadata": {
        "id": "bmEK7PmRN1Fu"
      },
      "source": [
        "### P1.PY"
      ]
    },
    {
      "cell_type": "code",
      "metadata": {
        "id": "oMKX0HrfNezD",
        "colab": {
          "base_uri": "https://localhost:8080/",
          "height": 34
        },
        "outputId": "194f5a53-71c2-46a2-f35f-003ba38a6b37"
      },
      "source": [
        "\"\"\"\n",
        "Simple Interest Calculator\n",
        "\"\"\"\n",
        "\n",
        "# Write a function called \"simple_interest\" that will allow a user to find out how much \n",
        "#they will have in savings based on their current funds and an interest rate. \n",
        "#(Instead of collecting user input, you can directly pass values of your choosing for the arguments.)\n",
        "\n",
        "# The formula for simple interest is...\n",
        "# A = P(1 + rt), where...         # so i guess A equals amount (final investment value , google)\n",
        "# P = principal amount of money\n",
        "# r = interest rate\n",
        "# t = number of time periods the principal will earn interest\n",
        "\n",
        "\n",
        "\n",
        "def simple_interest(p,r,t):\n",
        "  \n",
        "  fin_amount = p * (1 + (r * t))                      # first test seemed to work. 10k start, 1.5% interest rate, 60 months(time periods) or 5 years. end with 19k\n",
        "  return fin_amount\n",
        "\n",
        "simple_interest(10000,.015,60)\n",
        "\n"
      ],
      "execution_count": null,
      "outputs": [
        {
          "output_type": "execute_result",
          "data": {
            "text/plain": [
              "19000.0"
            ]
          },
          "metadata": {
            "tags": []
          },
          "execution_count": 159
        }
      ]
    },
    {
      "cell_type": "markdown",
      "metadata": {
        "id": "7ScSNwjINezF"
      },
      "source": [
        "\n",
        "\n",
        "### P2.PY\n",
        "\n",
        "\n"
      ]
    },
    {
      "cell_type": "code",
      "metadata": {
        "id": "YwFx8wHsNezG",
        "colab": {
          "base_uri": "https://localhost:8080/",
          "height": 51
        },
        "outputId": "ef96a857-9208-4d0f-c6a1-e7f7883bb667"
      },
      "source": [
        "\"\"\"\n",
        "Permutations & Combinations\n",
        "\"\"\"\n",
        "\n",
        "# Create two functions:\n",
        "\t# One called \"perms\", which outputs the **number** of possible **permutations** of rolling two 6-sided dice and assign it to a variable called \"permutations\".\n",
        "\t# One called \"combs\", which outputs the **number** of possible **combinations** of rolling two 6-sided dice and assigns it to a variable called \"combinations\".\n",
        "\t# Hint: The formulas for these are below, where n is the number of possible outcomes for one trial and r is the number of outcomes you will pick at a time. \n",
        "\t#The contextual difference is that order matters for permutations, meaning the same two numbers in a different order count as two unique permutations. For combinations, the order doesn't matter.\n",
        "\n",
        "# permutation formula = n! / (n-r)!\n",
        "# combination formula = n! / (n-r)!r!\n",
        "\n",
        "#factorial formula from old homework\n",
        "#total = 1\n",
        "#for x in range (1,int(n+1)):\n",
        " # total = total * x\t\t\t\t\t\t\t\t\t# \n",
        "\n",
        "def perms():\n",
        "\ttotal = 1\n",
        "\ttotal1 = 1\n",
        "\tr = 2\n",
        "\tfor x in range (1,7):\t\t\t\t\t\t\t\t\t \n",
        "\t\ttotal = total * x\n",
        "\tfor y in range (1, 7-r):\t\t\t\t\t\t\t\t\t\t# r = 2 so  6-2= 4 so the range is 1,5 \n",
        "\t\ttotal1 = total1 * y\n",
        "\tpermutations = total // total1 \t\n",
        "\tprint(permutations)\t\t\t\t\t\t\t\t\t\t\t\t# this is 6!\n",
        "perms()\n",
        "\n",
        "\n",
        "def combs():\n",
        "\t\ttotal =1\n",
        "\t\ttotal1 = 1\n",
        "\t\tr = 2\n",
        "\t\tfor x in range (1,7):\n",
        "\t\t\ttotal = total * x\n",
        "\t\tfor y in range (1,7-r):\n",
        "\t\t\ttotal1 = total1 * y\n",
        "\t\tcombinations = total // (total1 * 7-r)\n",
        "\t\tprint(combinations)\n",
        "combs()"
      ],
      "execution_count": null,
      "outputs": [
        {
          "output_type": "stream",
          "text": [
            "30\n",
            "4\n"
          ],
          "name": "stdout"
        }
      ]
    },
    {
      "cell_type": "markdown",
      "metadata": {
        "id": "7bTNjBy_NezI"
      },
      "source": [
        "\n",
        "\n",
        "### P3.PY\n",
        "\n",
        "\n"
      ]
    },
    {
      "cell_type": "code",
      "metadata": {
        "id": "NC2JU5p1NezI",
        "colab": {
          "base_uri": "https://localhost:8080/",
          "height": 34
        },
        "outputId": "5dcbfbe3-acbb-47ed-bcb8-17eb23d162bb"
      },
      "source": [
        "\"\"\"\n",
        "Multiples\n",
        "\"\"\"\n",
        "\n",
        "# Write a function called \"sum_multiples\" that take two numbers and returns the sum of their multiples between 0 and some limit. These three items should be generalized as parameters.\n",
        "                \n",
        "\n",
        "def sum_multiples(num1, num2, limit):\n",
        "    \n",
        "    times_what = 1\n",
        "    sum_total = 0\n",
        "    total = 0\n",
        "    for x in range(1,100):\n",
        "      if ((num1 * times_what) + (num2 * times_what) + sum_total) >= limit:\n",
        "        return total                                                        # fixed this and it worked! if over limit, return the current \"total\". tested for 1,2,3 multiples\n",
        "      else:\n",
        "        sum_total = ((num1 * times_what) + (num2 * times_what))\n",
        "        total = total + sum_total                                                   \n",
        "        times_what += 1\n",
        "      \n",
        "\n",
        "\n",
        "sum_multiples(2,4,40)\n"
      ],
      "execution_count": null,
      "outputs": [
        {
          "output_type": "execute_result",
          "data": {
            "text/plain": [
              "36"
            ]
          },
          "metadata": {
            "tags": []
          },
          "execution_count": 4
        }
      ]
    },
    {
      "cell_type": "markdown",
      "metadata": {
        "id": "ARbsmw_mNezL"
      },
      "source": [
        "## DATA_MANIPULATION\n",
        "\n",
        "\n"
      ]
    },
    {
      "cell_type": "markdown",
      "metadata": {
        "id": "wTd0ZSSeN4Y8"
      },
      "source": [
        "### P1.PY"
      ]
    },
    {
      "cell_type": "code",
      "metadata": {
        "id": "iUq-vFf2NezM",
        "colab": {
          "base_uri": "https://localhost:8080/",
          "height": 34
        },
        "outputId": "62a8e31f-f2b3-42e8-dd1f-8294c18e4ab8"
      },
      "source": [
        "\"\"\"\n",
        "File Organization\n",
        "\"\"\"\n",
        "# The dict \"files\" below contains file names and the name of the person who owns each file. Write and call a function to reorganize \"files\" such that it contains each person's name and the files he/she owns. \n",
        "#Assign the resultant dict to a new dict called \"grouped_by_owner\". Print out the key value pairs in this format - key: value.\n",
        "\n",
        "# Function name should be: group_by_owners\n",
        "# Dict of results should be named: files_by_owner\n",
        "\n",
        "#files_by_owner = {}\n",
        "\n",
        "def lets_sort(some_list):\n",
        "    new_list = []\n",
        "    while some_list:\n",
        "        minimum = min(some_list) \n",
        "        new_list.append(minimum)\n",
        "        some_list.remove(minimum)\n",
        "    return new_list\n",
        "\n",
        "\n",
        "def group_by_owners(some_files):\n",
        "  files_by_owner = {}\n",
        "  a = list(some_files.keys())\n",
        "  sorted_a = lets_sort(a)\n",
        "  b = list(some_files.values())\n",
        "  sorted_b = lets_sort(b)\n",
        "  for x in sorted_b:\n",
        "    idx = 0\n",
        "    if idx == 0:\n",
        "      files_by_owner[x[0]] = sorted_a[0]\n",
        "    elif x[idx +1] == x[idx]:\n",
        "      files_by_owner[x[idx]] = sorted_a[idx] + \" \" + sorted_a[idx+1]\n",
        "      idx += 1\n",
        "    else:\n",
        "      files_by_owner[x[idx+1]] = sorted_a[idx + 1]\n",
        "      idx += 1\n",
        "  return files_by_owner                                                 #got an output but it is not right. \n",
        "\n",
        "   \n",
        "\n",
        "files = {\n",
        "  'Input1.txt': 'Beau',           # create the function first, then run this thru later \n",
        "  'Code1.py': 'Mischa',\n",
        "  'Output1.txt': 'Beau',\n",
        "  'Input2.txt': 'Beau',\n",
        "  'Code2.py': 'Mischa',\n",
        "  'Output2.txt': 'Beau',\n",
        "  'Input3.txt': 'Percy',\n",
        "  'Code3.py': 'Alejandra',\n",
        "  'Output3.txt': 'Percy'\n",
        "}\n",
        "\n",
        "group_by_owners(files)\n",
        "\n"
      ],
      "execution_count": null,
      "outputs": [
        {
          "output_type": "execute_result",
          "data": {
            "text/plain": [
              "{'A': 'Code1.py', 'B': 'Code1.py', 'M': 'Code1.py', 'P': 'Code1.py'}"
            ]
          },
          "metadata": {
            "tags": []
          },
          "execution_count": 98
        }
      ]
    },
    {
      "cell_type": "code",
      "metadata": {
        "id": "G59Hy1a33iSx",
        "colab": {
          "base_uri": "https://localhost:8080/",
          "height": 231
        },
        "outputId": "6289b867-8c56-4f1a-deb2-26b3e5143269"
      },
      "source": [
        "files = {'Input1.txt': 'Beau',\n",
        "         'Code1.py': 'Mischa',\n",
        "         'Output1.txt': 'Beau',\n",
        "          \n",
        "        }\n",
        "files1 ={}\n",
        "for k, v in files.items():\n",
        "  if files[v] == files1[v]:\n",
        "    files1[v] += \" \" + files[k]           #cant figure out how to account for the dupe\n",
        "  else:\n",
        "    files1[v] = k\n",
        "\n",
        "print(files1.items())"
      ],
      "execution_count": null,
      "outputs": [
        {
          "output_type": "error",
          "ename": "KeyError",
          "evalue": "ignored",
          "traceback": [
            "\u001b[0;31m---------------------------------------------------------------------------\u001b[0m",
            "\u001b[0;31mKeyError\u001b[0m                                  Traceback (most recent call last)",
            "\u001b[0;32m<ipython-input-163-755f8f787a92>\u001b[0m in \u001b[0;36m<module>\u001b[0;34m()\u001b[0m\n\u001b[1;32m      6\u001b[0m \u001b[0mfiles1\u001b[0m \u001b[0;34m=\u001b[0m\u001b[0;34m{\u001b[0m\u001b[0;34m}\u001b[0m\u001b[0;34m\u001b[0m\u001b[0;34m\u001b[0m\u001b[0m\n\u001b[1;32m      7\u001b[0m \u001b[0;32mfor\u001b[0m \u001b[0mk\u001b[0m\u001b[0;34m,\u001b[0m \u001b[0mv\u001b[0m \u001b[0;32min\u001b[0m \u001b[0mfiles\u001b[0m\u001b[0;34m.\u001b[0m\u001b[0mitems\u001b[0m\u001b[0;34m(\u001b[0m\u001b[0;34m)\u001b[0m\u001b[0;34m:\u001b[0m\u001b[0;34m\u001b[0m\u001b[0;34m\u001b[0m\u001b[0m\n\u001b[0;32m----> 8\u001b[0;31m   \u001b[0;32mif\u001b[0m \u001b[0mfiles\u001b[0m\u001b[0;34m[\u001b[0m\u001b[0mv\u001b[0m\u001b[0;34m]\u001b[0m \u001b[0;34m==\u001b[0m \u001b[0mfiles1\u001b[0m\u001b[0;34m[\u001b[0m\u001b[0mv\u001b[0m\u001b[0;34m]\u001b[0m\u001b[0;34m:\u001b[0m\u001b[0;34m\u001b[0m\u001b[0;34m\u001b[0m\u001b[0m\n\u001b[0m\u001b[1;32m      9\u001b[0m     \u001b[0mfiles1\u001b[0m\u001b[0;34m[\u001b[0m\u001b[0mv\u001b[0m\u001b[0;34m]\u001b[0m \u001b[0;34m+=\u001b[0m \u001b[0;34m\" \"\u001b[0m \u001b[0;34m+\u001b[0m \u001b[0mfiles\u001b[0m\u001b[0;34m[\u001b[0m\u001b[0mk\u001b[0m\u001b[0;34m]\u001b[0m\u001b[0;34m\u001b[0m\u001b[0;34m\u001b[0m\u001b[0m\n\u001b[1;32m     10\u001b[0m   \u001b[0;32melse\u001b[0m\u001b[0;34m:\u001b[0m\u001b[0;34m\u001b[0m\u001b[0;34m\u001b[0m\u001b[0m\n",
            "\u001b[0;31mKeyError\u001b[0m: 'Beau'"
          ]
        }
      ]
    },
    {
      "cell_type": "markdown",
      "metadata": {
        "id": "-7KFDG5lNezO"
      },
      "source": [
        "\n",
        "\n",
        "### P2.PY\n",
        "\n",
        "\n"
      ]
    },
    {
      "cell_type": "code",
      "metadata": {
        "id": "S5e9s-njNezP",
        "colab": {
          "base_uri": "https://localhost:8080/",
          "height": 34
        },
        "outputId": "54a2e918-95ff-4e11-eeff-7f6d1a5d22d1"
      },
      "source": [
        "\"\"\"\n",
        "Clean Pairs\n",
        "\"\"\"\n",
        "\n",
        "# Below is a list of common food pairings. Write a function called \"cleaner\" that cleans the data such that each list item is a tuple (e.g. ('Milk', 'Cookies')). Assign the results to a variable called \"clean_pairs\".\n",
        "\n",
        "pairs = [('Milk', 'Cookies'), ('Peanut Butter - Jelly'), ('Spaghetti & Meatballs'), ('Eggs', 'Bacon'), ('Pancakes & Syrup'), ('Chicken - Waffles'), ('Peas', 'Carrots')]\n",
        "                                                      # the parentheses around the parts of the list, make it tuples\n",
        "                                          #this worked to make the list cleaner and into a string\n",
        "                                           # so i can find out if a char is in one of these tuples. so maybe go 1 by 1. add the list pairs to a new list. add the tuples to something else. fix them. then add to list. \n",
        "                                       #milk/cookies is a tuple b/c it has parenthesis and a comma\n",
        "                                         #peanut butt jelly is a string b/c it doenst have the comma i guess\n",
        "                                           #this worked. so if its a tuple, add it, if not, dont and fix\n",
        "                                           #this worked also. so now i have the bad ones isolated\n",
        "def cleaner(some_pairs):\n",
        "  clean_pairs =[]\n",
        "  len(pairs)\n",
        "\n",
        "  for x in range(0,(len(pairs))):\n",
        "    if type(pairs[x]) == tuple:\n",
        "      clean_pairs.append(pairs[x])\n",
        "      x +=1\n",
        "    elif \"-\" in pairs[x]:\n",
        "     clean_pairs.append(pairs[x].replace('-',','))\n",
        "     x +=1\n",
        "    elif \"&\" in pairs[x]:\n",
        "      clean_pairs.append(pairs[x].replace('&',','))\n",
        "      x +=1\n",
        "    else:\n",
        "     continue\n",
        "  print(clean_pairs)\n",
        "                      \n",
        "\n",
        "cleaner(pairs)                            # able to clean them all but not get them back to nice tuples - i think. "
      ],
      "execution_count": null,
      "outputs": [
        {
          "output_type": "stream",
          "text": [
            "[('Milk', 'Cookies'), 'Peanut Butter , Jelly', 'Spaghetti , Meatballs', ('Eggs', 'Bacon'), 'Pancakes , Syrup', 'Chicken , Waffles', ('Peas', 'Carrots')]\n"
          ],
          "name": "stdout"
        }
      ]
    },
    {
      "cell_type": "code",
      "metadata": {
        "id": "vqbuJzfGwX7V"
      },
      "source": [
        ""
      ],
      "execution_count": null,
      "outputs": []
    },
    {
      "cell_type": "code",
      "metadata": {
        "id": "74kZCEo4ke4f",
        "colab": {
          "base_uri": "https://localhost:8080/",
          "height": 34
        },
        "outputId": "74148692-a1ad-472d-d20a-20c0c2a3d0c9"
      },
      "source": [
        "food_str = ['Peanut Butter - Jelly', 'Spaghetti & Meatballs', 'Pancakes & Syrup', 'Chicken - Waffles']\n",
        "new_food_str = []\n",
        "\n",
        "for idx in range(0,len(food_str)):                                      # this was all jsut testing, disregard\n",
        "  if \"-\" in food_str[idx]:\n",
        "    new_food_str.append(food_str[idx].replace('-',','))\n",
        "  elif '&' in food_str[idx]:\n",
        "    new_food_str.append(food_str[idx].replace('&',','))\n",
        "  else:\n",
        "    continue\n",
        "print(new_food_str)\n",
        "\n",
        "\n"
      ],
      "execution_count": null,
      "outputs": [
        {
          "output_type": "stream",
          "text": [
            "['Peanut Butter , Jelly', 'Spaghetti , Meatballs', 'Pancakes , Syrup', 'Chicken , Waffles']\n"
          ],
          "name": "stdout"
        }
      ]
    },
    {
      "cell_type": "markdown",
      "metadata": {
        "id": "E39dQ-pONezT"
      },
      "source": [
        "\n",
        "\n",
        "### P3.PY\n",
        "\n",
        "\n"
      ]
    },
    {
      "cell_type": "code",
      "metadata": {
        "id": "b6qFJuFfNezT",
        "colab": {
          "base_uri": "https://localhost:8080/",
          "height": 34
        },
        "outputId": "1b968b35-19bd-4ce9-ec65-50984e0ca7b2"
      },
      "source": [
        "\"\"\"\n",
        "Password Requirements\n",
        "\"\"\"\n",
        "\n",
        "# Write a Python program called \"pw_validator\" to validate a password based on the security requirements outlined below.\n",
        "\n",
        "# VALIDATION REQUIREMENTS:\n",
        "## At least 1 lowercase letter [a-z]\n",
        "## At least 1 uppercase letter [A-Z].\n",
        "## At least 1 number [0-9].\n",
        "## At least 1 special character [~!@#$%&*].\n",
        "## Min length 6 characters.\n",
        "## Max length 16 characters.\n",
        "\n",
        "def pw_validator(some_pw):\n",
        "  import re\n",
        "  x = re.search(r\"\\d\", some_pw)\n",
        "  y = re.search(r\"[a-z]\", some_pw)\n",
        "  z = re.search(r\"[A-Z]\", some_pw)\n",
        "  w = re.search(r\"[(~!$#@%&*)]\", some_pw)\n",
        "\n",
        "  for i in some_pw:\n",
        "    if (len(some_pw) < 6) or (len(some_pw) > 16):\n",
        "      print(f'The password must have be between 6 and 16 characters. Try again!') \n",
        "      break        \n",
        "    elif (x == None) or (y == None) or (z == None) or (w == None):\n",
        "      print(f'The password is invalid. Try again!')\n",
        "      break\n",
        "    else:\n",
        "      print('Thank you!')\n",
        "      break\n",
        "\n",
        "pw_validator('aaa9!aAa')"
      ],
      "execution_count": null,
      "outputs": [
        {
          "output_type": "stream",
          "text": [
            "Thank you!\n"
          ],
          "name": "stdout"
        }
      ]
    },
    {
      "cell_type": "markdown",
      "metadata": {
        "id": "X8kPjts_NezV"
      },
      "source": [
        "\n",
        "\n",
        "### P4.PY\n",
        "\n",
        "\n"
      ]
    },
    {
      "cell_type": "code",
      "metadata": {
        "id": "AucIC9Z8NezW",
        "colab": {
          "base_uri": "https://localhost:8080/",
          "height": 34
        },
        "outputId": "19523a8e-e404-4347-cc24-2bd54841ba4b"
      },
      "source": [
        "\"\"\"\n",
        "Rainbows & Wobniars\n",
        "\"\"\"\n",
        "\n",
        "# Write a function called \"wobniar\", which should contain the local variable \"rainbow\" below. \n",
        "#The function should collect every other color of the rainbow starting at index 0 and add each one to a new list. \n",
        "#When you add each color, it should be spelled backwards. For example, the word 'sing' would be added to the new list as 'gnis'. Return and print the list.\n",
        "# color list Red.  Orange.Yellow.Green.Blue.Indigo.Violet.\n",
        "\n",
        "def wobniar():\n",
        "  rainbow = ['red', 'orange', 'yellow', 'green', 'blue', 'indigo', 'purple']\n",
        "  colors_backward = []\n",
        "\n",
        "  idx = len(rainbow)\n",
        "  while idx > 0:\n",
        "    colors_backward.append(rainbow[idx-1][::-1])      #found on google, reminded self how to move thru a list. then append to list helped get full word.\n",
        "    idx = idx -1\n",
        "  print(colors_backward)\n",
        "\n",
        "\n",
        "wobniar()"
      ],
      "execution_count": null,
      "outputs": [
        {
          "output_type": "stream",
          "text": [
            "['elprup', 'ogidni', 'eulb', 'neerg', 'wolley', 'egnaro', 'der']\n"
          ],
          "name": "stdout"
        }
      ]
    },
    {
      "cell_type": "code",
      "metadata": {
        "id": "ryp-DFnaSNzb",
        "colab": {
          "base_uri": "https://localhost:8080/",
          "height": 68
        },
        "outputId": "5bac41e5-84b1-4933-f268-a4da3596325b"
      },
      "source": [
        "\n",
        "colors_forward = ['red', 'orange']\n",
        "colors_backward = []                                            # just some practice stuff, disregard \n",
        "test =[]\n",
        "colors_backward += colors_forward[1][::-1]\n",
        "test.append(colors_forward[1][::-1])\n",
        "print(colors_forward[0][::-1])\n",
        "print(colors_backward)\n",
        "print(test)"
      ],
      "execution_count": null,
      "outputs": [
        {
          "output_type": "stream",
          "text": [
            "der\n",
            "['e', 'g', 'n', 'a', 'r', 'o']\n",
            "['egnaro']\n"
          ],
          "name": "stdout"
        }
      ]
    },
    {
      "cell_type": "code",
      "metadata": {
        "id": "AB34xb6PUr8e",
        "colab": {
          "base_uri": "https://localhost:8080/",
          "height": 34
        },
        "outputId": "13691888-28ab-4ea5-cac7-a493d1c2b856"
      },
      "source": [
        "txt = \"Hello World\" [::-1]                    #practice, disregard \n",
        "print(txt)"
      ],
      "execution_count": null,
      "outputs": [
        {
          "output_type": "stream",
          "text": [
            "dlroW olleH\n"
          ],
          "name": "stdout"
        }
      ]
    },
    {
      "cell_type": "markdown",
      "metadata": {
        "id": "4gyJyWF1Nezc"
      },
      "source": [
        "\n",
        "\n",
        "### P5.PY\n",
        "\n",
        "\n"
      ]
    },
    {
      "cell_type": "code",
      "metadata": {
        "id": "aW8b7Bk_Neze",
        "colab": {
          "base_uri": "https://localhost:8080/",
          "height": 153
        },
        "outputId": "7f5f3a43-d646-42aa-d4ec-83537c7fe9cc"
      },
      "source": [
        "\"\"\"\n",
        "Speeding Tickets\n",
        "\"\"\"\n",
        "\n",
        "# Imagine you're a cop waiting on the side of the road to pick up speeders. Write a function called \"speeders\" to check the speed of drivers and record their license plate numbers.\n",
        "## If speed is less than or equal 70 (mph), it should print \"Good\". \n",
        "## If the speed is greater than 70, find the license plate number of that driver in your \"driver_points\" dict (see below) and add a point to their license for every 5 full mph above the speed limit.\n",
        "## If at any point that driver has 12 or more points on his/her license, print \"License Suspended\".\n",
        "## Call the function on each driver in the \"passing_cars\" dict below to see difference use cases work.\n",
        "\n",
        "# p.s. Feel free to move these around in your code as needed.\n",
        "\n",
        "passing_cars = { # license plate nums & speed\n",
        "  '4GRONPH': 68,\n",
        "  'OJGL6WD': 82,\n",
        "  'Q5517FA': 70,\n",
        "  'S0PNWEJ': 95,\n",
        "  'RM23RXC': 64,\n",
        "  'KH5TH8D': 100,\n",
        "  'IHEHJ4P': 67,\n",
        "  'SVK90LT': 73,\n",
        "  'LJSV4N1': 88,\n",
        "  'KDRLGXM': 91\n",
        "}\n",
        "\n",
        "driver_points = { # license plate nums & points\n",
        "  '4GRONPH': 8,\n",
        "  'OJGL6WD': 12,\n",
        "  'Q5517FA': 1,\n",
        "  'S0PNWEJ': 2,\n",
        "  'RM23RXC': 6,\n",
        "  'KH5TH8D': 7,\n",
        "  'IHEHJ4P': 10,\n",
        "  'SVK90LT': 5,\n",
        "  'LJSV4N1': 3,\n",
        "  'KDRLGXM': 9\n",
        "  }\n",
        "def speeders():\n",
        "  for k, v in passing_cars.items():\n",
        "    if v <= 70:\n",
        "      print(\"Good\")\n",
        "    elif v> 70:\n",
        "      driver_points[k] = driver_points[k] + ((v-70)//5)\n",
        "      if  driver_points[k] >= 12:\n",
        "        print('License Suspended')\n",
        "      else:\n",
        "        continue\n",
        "    else:\n",
        "      continue \n",
        "  print(driver_points)\n",
        "\n",
        "\n",
        "\n",
        "\n",
        "\n",
        "\n",
        "speeders()"
      ],
      "execution_count": null,
      "outputs": [
        {
          "output_type": "stream",
          "text": [
            "Good\n",
            "License Suspended\n",
            "Good\n",
            "Good\n",
            "License Suspended\n",
            "Good\n",
            "License Suspended\n",
            "{'4GRONPH': 8, 'OJGL6WD': 14, 'Q5517FA': 1, 'S0PNWEJ': 7, 'RM23RXC': 6, 'KH5TH8D': 13, 'IHEHJ4P': 10, 'SVK90LT': 5, 'LJSV4N1': 6, 'KDRLGXM': 13}\n"
          ],
          "name": "stdout"
        }
      ]
    }
  ]
}